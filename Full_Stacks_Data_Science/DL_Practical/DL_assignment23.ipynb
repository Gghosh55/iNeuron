{
 "cells": [
  {
   "cell_type": "code",
   "execution_count": null,
   "id": "83246682-1d3e-416b-b6fe-38b8af1b3d27",
   "metadata": {},
   "outputs": [],
   "source": [
    "from flask import Flask, render_template, request\n",
    "from PIL import Image\n",
    "import pytesseract\n",
    "\n",
    "app = Flask(__name__)\n",
    "\n",
    "# Set Tesseract path (replace with your actual path)\n",
    "pytesseract.pytesseract.tesseract_cmd = r'C:\\Program Files\\Tesseract-OCR\\tesseract.exe'\n",
    "@app.route('/', methods=['GET', 'POST'])\n",
    "def upload_receipt():\n",
    "  if request.method == 'POST':\n",
    "    # Get uploaded file\n",
    "    uploaded_file = request.files['receipt']\n",
    "    # Save the image\n",
    "    uploaded_file.save('receipt.jpg')\n",
    "\n",
    "    # Open the image\n",
    "    img = Image.open('receipt.jpg')\n",
    "\n",
    "    # Preprocessing (Optional - Grayscale conversion)\n",
    "    # img = img.convert('L')\n",
    "\n",
    "    # Perform OCR\n",
    "    text = pytesseract.image_to_string(img)\n",
    "\n",
    "    # Data extraction logic goes here (using regular expressions or parsing)\n",
    "    extracted_data = extract_data(text)  # Replace with your data extraction function\n",
    "\n",
    "    return render_template('result.html', data=extracted_data)\n",
    "  else:\n",
    "    return render_template('index.html')\n",
    "def extract_data(text):\n",
    "  # Implement logic to extract relevant information from OCR text (e.g., using regular expressions)\n",
    "  merchant = \"Find Merchant Name\"  # Replace with actual extraction logic\n",
    "  date = \"Find Date\"\n",
    "  # ... Extract other data points ...\n",
    "  return {\n",
    "      \"Merchant\": merchant,\n",
    "      \"Date\": date,\n",
    "      # ... Other extracted data ...\n",
    "  }\n"
   ]
  }
 ],
 "metadata": {
  "kernelspec": {
   "display_name": "Python 3 (ipykernel)",
   "language": "python",
   "name": "python3"
  },
  "language_info": {
   "codemirror_mode": {
    "name": "ipython",
    "version": 3
   },
   "file_extension": ".py",
   "mimetype": "text/x-python",
   "name": "python",
   "nbconvert_exporter": "python",
   "pygments_lexer": "ipython3",
   "version": "3.9.13"
  }
 },
 "nbformat": 4,
 "nbformat_minor": 5
}
