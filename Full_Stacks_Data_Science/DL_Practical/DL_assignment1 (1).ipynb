{
 "cells": [
  {
   "cell_type": "code",
   "execution_count": null,
   "id": "0fdc1f7f-8456-44c0-81a1-f8a669454077",
   "metadata": {},
   "outputs": [],
   "source": [
    "import tensorflow as tf\n",
    "\n",
    "# Define the sequence data (replace with your actual list of odd numbers)\n",
    "sequence = [1, 3, 5, 7, 9]\n",
    "\n",
    "# Define functions to preprocess and convert data (one-hot encoding)\n",
    "def one_hot_encode(number):\n",
    "  # This function creates a one-hot encoded vector of size 10 (assuming max number is 9)\n",
    "  # with a 1 at the index corresponding to the input number\n",
    "  one_hot = tf.one_hot(number, depth=10)\n",
    "  return one_hot\n",
    "\n",
    "def preprocess_data(data):\n",
    "  # Convert each number in the sequence to a one-hot encoded vector\n",
    "  return tf.stack([one_hot_encode(num) for num in data])\n",
    "\n",
    "# Preprocess the sequence data\n",
    "data = preprocess_data(sequence)\n",
    "\n",
    "# Define the model architecture\n",
    "model = tf.keras.Sequential([\n",
    "  tf.keras.layers.Input(shape=(10,)),  # Input layer for one-hot encoded vector\n",
    "  tf.keras.layers.Dense(4, activation=\"relu\"),  # Hidden layer with 4 neurons and ReLU activation\n",
    "  tf.keras.layers.Dense(1, activation=\"sigmoid\")  # Output layer with 1 neuron and sigmoid activation\n",
    "])\n",
    "\n",
    "# Define the optimizer and loss function\n",
    "optimizer = tf.keras.optimizers.Adam(learning_rate=0.01)\n",
    "loss_fn = tf.keras.losses.MeanSquaredError()\n",
    "\n",
    "# Train the model\n",
    "model.compile(optimizer=optimizer, loss=loss_fn)\n",
    "model.fit(data[:-1], data[1:], epochs=100)  # Train on all but the last number, predict the last one\n",
    "\n",
    "# Test the model on a new unseen odd number\n",
    "new_number = 11  # Replace with a new odd number\n",
    "new_data = one_hot_encode(new_number)\n",
    "prediction = model.predict(tf.expand_dims(new_data, axis=0))[0][0]\n",
    "\n",
    "print(\"Predicted next odd number:\", prediction)\n"
   ]
  }
 ],
 "metadata": {
  "kernelspec": {
   "display_name": "Python 3 (ipykernel)",
   "language": "python",
   "name": "python3"
  },
  "language_info": {
   "codemirror_mode": {
    "name": "ipython",
    "version": 3
   },
   "file_extension": ".py",
   "mimetype": "text/x-python",
   "name": "python",
   "nbconvert_exporter": "python",
   "pygments_lexer": "ipython3",
   "version": "3.9.13"
  }
 },
 "nbformat": 4,
 "nbformat_minor": 5
}
