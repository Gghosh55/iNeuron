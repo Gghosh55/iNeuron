{
 "cells": [
  {
   "cell_type": "code",
   "execution_count": null,
   "id": "e8df042f-c909-4b42-b324-bb3bf23c2d56",
   "metadata": {},
   "outputs": [],
   "source": [
    "from flask import Flask, render_template, request\n",
    "import tensorflow as tf\n",
    "from tensorflow.keras.applications import VGG16\n",
    "from tensorflow.keras.preprocessing import image\n",
    "from tensorflow.keras.preprocessing.image import img_to_array\n",
    "\n",
    "app = Flask(__name__)\n",
    "\n",
    "# Load pre-trained VGG16 model with weights from ImageNet\n",
    "model = VGG16(weights=\"imagenet\", include_top=False)\n",
    "\n",
    "# Function to preprocess image and predict breed\n",
    "def predict_breed(image_file):\n",
    "    img = image.load_img(image_file, target_size=(224, 224))\n",
    "    x = image.img_to_array(img)\n",
    "    x = np.expand_dims(x, axis=0)\n",
    "    x = preprocess_input(x)  # Preprocess image (replace with your specific preprocessing steps)\n",
    "    preds = model.predict(x)\n",
    "    # Get the predicted class label and confidence score\n",
    "    predicted_class = decode_predictions(preds, top=1)[0][0][1]\n",
    "    confidence_score = decode_predictions(preds, top=1)[0][0][2]\n",
    "    return predicted_class, confidence_score\n",
    "\n",
    "@app.route(\"/\")\n",
    "def home():\n",
    "    return render_template(\"index.html\")\n",
    "\n",
    "@app.route(\"/upload\", methods=[\"POST\"])\n",
    "def upload():\n",
    "    if request.method == \"POST\":\n",
    "        # Get uploaded image file\n",
    "        image_file = request.files[\"image\"]\n",
    "        if image_file:\n",
    "            # Predict breed and confidence score\n",
    "            predicted_breed, confidence_score = predict_breed(image_file)\n",
    "            return render_template(\"result.html\", image_path=image_file.filename, breed=predicted_breed, score=confidence_score)\n",
    "        else:\n",
    "            return render_template(\"error.html\", message=\"No image uploaded!\")\n",
    "\n",
    "if __name__ == \"__main__\":\n",
    "    app.run(debug=True)\n"
   ]
  }
 ],
 "metadata": {
  "kernelspec": {
   "display_name": "Python 3 (ipykernel)",
   "language": "python",
   "name": "python3"
  },
  "language_info": {
   "codemirror_mode": {
    "name": "ipython",
    "version": 3
   },
   "file_extension": ".py",
   "mimetype": "text/x-python",
   "name": "python",
   "nbconvert_exporter": "python",
   "pygments_lexer": "ipython3",
   "version": "3.9.13"
  }
 },
 "nbformat": 4,
 "nbformat_minor": 5
}
