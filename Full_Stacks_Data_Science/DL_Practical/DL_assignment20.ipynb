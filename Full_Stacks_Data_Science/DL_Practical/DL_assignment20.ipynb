{
 "cells": [
  {
   "cell_type": "code",
   "execution_count": null,
   "id": "df623315-f2b5-41fa-b05e-6cc03c589f3b",
   "metadata": {},
   "outputs": [],
   "source": [
    "from kivy.app import App\n",
    "from kivy.uix.boxlayout import BoxLayout\n",
    "from kivy.uix.button import Button\n",
    "from kivy.uix.filechooser import FileChooser\n",
    "from kivy.properties import ObjectProperty\n",
    "\n",
    "import cv2\n",
    "\n",
    "\n",
    "class BlurFacesApp(App):\n",
    "    video_path = ObjectProperty(None)\n",
    "    blur_intensity = ObjectProperty(10)  # Adjust blur intensity (optional)\n",
    "\n",
    "    def build(self):\n",
    "        layout = BoxLayout(orientation=\"vertical\")\n",
    "\n",
    "        # Button to select video\n",
    "        video_select_button = Button(text=\"Select Video\")\n",
    "        video_select_button.bind(on_press=self.open_filechooser)\n",
    "        layout.add_widget(video_select_button)\n",
    "\n",
    "        # Optional checkbox for blur intensity\n",
    "        blur_intensity_checkbox = CheckBox(title=\"Adjust Blur Intensity\")\n",
    "        blur_intensity_checkbox.bind(active=self.update_blur_intensity)\n",
    "        layout.add_widget(blur_intensity_checkbox)\n",
    "\n",
    "        # Button to process video\n",
    "        process_button = Button(text=\"Process Video\")\n",
    "        process_button.bind(on_press=self.process_video)\n",
    "        layout.add_widget(process_button)\n",
    "\n",
    "        return layout\n",
    "\n",
    "    def open_filechooser(self, instance):\n",
    "        # Open file chooser for video selection\n",
    "        FileChooser().open(self.select_video)\n",
    "\n",
    "    def select_video(self, instance, selection):\n",
    "        # Get selected video path\n",
    "        self.video_path = selection[0]\n",
    "\n",
    "    def update_blur_intensity(self, instance, value):\n",
    "        # Update blur intensity based on checkbox state (optional)\n",
    "        if value:\n",
    "            self.blur_intensity = 20  # Example: Increase blur for active checkbox\n",
    "        else:\n",
    "            self.blur_intensity = 10  # Example: Decrease blur for inactive checkbox\n",
    "\n",
    "    def process_video(self, instance):\n",
    "        # Video processing logic (replace with actual implementation)\n",
    "        if self.video_path:\n",
    "            # Read video using cv2.VideoCapture\n",
    "            cap = cv2.VideoCapture(self.video_path)\n",
    "\n",
    "            # Define face detection cascade classifier (\n"
   ]
  }
 ],
 "metadata": {
  "kernelspec": {
   "display_name": "Python 3 (ipykernel)",
   "language": "python",
   "name": "python3"
  },
  "language_info": {
   "codemirror_mode": {
    "name": "ipython",
    "version": 3
   },
   "file_extension": ".py",
   "mimetype": "text/x-python",
   "name": "python",
   "nbconvert_exporter": "python",
   "pygments_lexer": "ipython3",
   "version": "3.9.13"
  }
 },
 "nbformat": 4,
 "nbformat_minor": 5
}
