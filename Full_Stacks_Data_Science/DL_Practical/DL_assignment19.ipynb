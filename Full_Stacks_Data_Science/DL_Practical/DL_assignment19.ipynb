{
 "cells": [
  {
   "cell_type": "code",
   "execution_count": null,
   "id": "9d8b0d43-6c03-4627-8377-c0cbe66d85ac",
   "metadata": {},
   "outputs": [],
   "source": [
    "from fastapi import FastAPI, UploadFile, File, BackgroundTasks\n",
    "import cv2\n",
    "import numpy as np\n",
    "from tensorflow.keras.models import load_model\n",
    "\n",
    "# Replace with path to your downloaded model\n",
    "model_path = \"path/to/human_detection_model.h5\"\n",
    "\n",
    "# Load the human detection model\n",
    "model = load_model(model_path)\n",
    "\n",
    "app = FastAPI()\n",
    "\n",
    "\n",
    "def preprocess_image(image_bytes):\n",
    "    \"\"\"Preprocesses the uploaded image for the model.\"\"\"\n",
    "    # Read image from bytes\n",
    "    image = cv2.imdecode(np.frombuffer(image_bytes, np.uint8), cv2.IMREAD_COLOR)\n",
    "    # Resize image (adjust based on model requirements)\n",
    "    image = cv2.resize(image, (width, height))\n",
    "    # Convert to RGB (assuming model expects RGB)\n",
    "    image = cv2.cvtColor(image, cv2.COLOR_BGR2RGB)\n",
    "    # Normalize pixel values (adjust based on model requirements)\n",
    "    image = image.astype('float32') / 255.0\n",
    "    # Expand dimensions for batch processing (optional, some models might not need this)\n",
    "    image = np.expand_dims(image, axis=0)\n",
    "    return image\n",
    "\n",
    "\n",
    "def detect_humans(image):\n",
    "    \"\"\"Uses the model to detect humans in the image and returns the count.\"\"\"\n",
    "    # Use the model for human\n"
   ]
  }
 ],
 "metadata": {
  "kernelspec": {
   "display_name": "Python 3 (ipykernel)",
   "language": "python",
   "name": "python3"
  },
  "language_info": {
   "codemirror_mode": {
    "name": "ipython",
    "version": 3
   },
   "file_extension": ".py",
   "mimetype": "text/x-python",
   "name": "python",
   "nbconvert_exporter": "python",
   "pygments_lexer": "ipython3",
   "version": "3.9.13"
  }
 },
 "nbformat": 4,
 "nbformat_minor": 5
}
