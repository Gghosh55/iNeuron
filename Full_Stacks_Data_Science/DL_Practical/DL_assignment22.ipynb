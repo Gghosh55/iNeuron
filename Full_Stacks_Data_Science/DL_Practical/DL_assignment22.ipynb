{
 "cells": [
  {
   "cell_type": "code",
   "execution_count": null,
   "id": "cdff4b3c-f540-47c3-ac9a-b94595603f1e",
   "metadata": {},
   "outputs": [],
   "source": [
    "import cv2\n",
    "\n",
    "def count_and_classify_vehicles(video_path):\n",
    "  # Open video capture\n",
    "  cap = cv2.VideoCapture(video_path)\n",
    "\n",
    "  # Capture background frame (assuming static background)\n",
    "  ret, background_frame = cap.read()\n",
    "\n",
    "  # Initialize counters\n",
    "  car_count = 0\n",
    "  truck_count = 0\n",
    "\n",
    "  while True:\n",
    "    # Capture frame\n",
    "    ret, frame = cap.read()\n",
    "    if not ret:\n",
    "      break\n",
    "\n",
    "    # Convert to grayscale for background subtraction\n",
    "    gray_frame = cv2.cvtColor(frame, cv2.COLOR_BGR2GRAY)\n",
    "    gray_background = cv2.cvtColor(background_frame, cv2.COLOR_BGR2GRAY)\n",
    "\n",
    "    # Background subtraction (replace with more robust detection if needed)\n",
    "    difference = cv2.absdiff(gray_frame, gray_background)\n",
    "    thresh, binary_mask = cv2.threshold(difference, 30, 255, cv2.THRESH_BINARY)\n",
    "\n",
    "    # Find contours in the mask (potential vehicles)\n",
    "    contours, _ = cv2.findContours(binary_mask, cv2.RETR_EXTERNAL, cv2.CHAIN_APPROX_SIMPLE)\n",
    "\n",
    "    # Analyze contours to classify and count vehicles (replace with your logic)\n",
    "    for cnt in contours:\n",
    "      # Analyze contour area and aspect ratio to differentiate car/truck (example)\n",
    "      area = cv2.contourArea(cnt)\n",
    "      aspect_ratio = float(cv2.boundingRect(cnt)[2]) / cv2.boundingRect(cnt)[3]\n",
    "      if area > 1000 and 1 < aspect_ratio < 2:\n",
    "        car_count += 1\n",
    "      elif area > 5000:\n",
    "        truck_count += 1\n",
    "\n",
    "    # Update background periodically (optional)\n",
    "    if cv2.waitKey(1) & 0xFF == ord('b'):\n",
    "      background_frame = frame.copy()\n",
    "\n",
    "    # Display frame with potential bounding boxes (optional UI)\n",
    "    # ...\n",
    "\n",
    "    # Exit on 'q' key press\n",
    "    if cv2.waitKey(1) & 0xFF == ord('q'):\n"
   ]
  }
 ],
 "metadata": {
  "kernelspec": {
   "display_name": "Python 3 (ipykernel)",
   "language": "python",
   "name": "python3"
  },
  "language_info": {
   "codemirror_mode": {
    "name": "ipython",
    "version": 3
   },
   "file_extension": ".py",
   "mimetype": "text/x-python",
   "name": "python",
   "nbconvert_exporter": "python",
   "pygments_lexer": "ipython3",
   "version": "3.9.13"
  }
 },
 "nbformat": 4,
 "nbformat_minor": 5
}
