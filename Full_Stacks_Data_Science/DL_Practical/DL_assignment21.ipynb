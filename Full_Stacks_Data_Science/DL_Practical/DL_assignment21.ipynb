{
 "cells": [
  {
   "cell_type": "code",
   "execution_count": null,
   "id": "fa55ae6f-cf0b-4d40-85fd-ca18a265c4ed",
   "metadata": {},
   "outputs": [],
   "source": [
    "import cv2\n",
    "\n",
    "def detect_hand_gesture(frame):\n",
    "  # Background separation (replace with your implementation)\n",
    "  gray = cv2.cvtColor(frame, cv2.COLOR_BGR2GRAY)\n",
    "  # Hand segmentation (replace with your implementation)\n",
    "  # Find contours and identify fingertips\n",
    "  contours, _ = cv2.findContours(thresholded_hand_mask, cv2.RETR_EXTERNAL, cv2.CHAIN_APPROX_SIMPLE)\n",
    "   fingertips = []\n",
    "  for cnt in contours:\n",
    "    # Analyze contour properties to identify fingertips\n",
    "    fingertips.append(cv2.boundingRect(cnt))\n",
    "\n",
    "  # Gesture recognition based on fingertip count and positions (replace with your logic)\n",
    "  gesture = \"Unknown\"\n",
    "  if len(fingertips) == 5:\n",
    "    gesture = \"Open Palm\"\n",
    "  elif len(fingertips) == 0:\n",
    "    gesture = \"Closed Fist\"\n",
    "  # ... (define logic for other gestures)\n",
    "\n",
    "  return gesture\n",
    "\n",
    "# Initialize webcam capture\n",
    "cap = cv2.VideoCapture(0)\n",
    "\n",
    "while True:\n",
    "  # Capture frame from webcam\n",
    "  ret, frame = cap.read()\n",
    "\n",
    "  # Detect hand gesture\n",
    "  gesture = detect_hand_gesture(frame)\n",
    "\n",
    "  # Display frame and gesture text (optional UI)\n",
    "  cv2.putText(frame, gesture, (50, 50), cv2.FONT_HERSHEY_SIMPLEX, 1, (0, 255, 0), 2)\n",
    "  cv2.imshow('Hand Gesture Recognition', frame)\n",
    "\n",
    "  # Exit on 'q' key press\n",
    "  if cv2.waitKey(1) & 0xFF == ord('q'):\n",
    "    break\n",
    "\n",
    "# Release resources\n",
    "cap.release()\n",
    "cv2.destroyAllWindows()\n"
   ]
  }
 ],
 "metadata": {
  "kernelspec": {
   "display_name": "Python 3 (ipykernel)",
   "language": "python",
   "name": "python3"
  },
  "language_info": {
   "codemirror_mode": {
    "name": "ipython",
    "version": 3
   },
   "file_extension": ".py",
   "mimetype": "text/x-python",
   "name": "python",
   "nbconvert_exporter": "python",
   "pygments_lexer": "ipython3",
   "version": "3.9.13"
  }
 },
 "nbformat": 4,
 "nbformat_minor": 5
}
