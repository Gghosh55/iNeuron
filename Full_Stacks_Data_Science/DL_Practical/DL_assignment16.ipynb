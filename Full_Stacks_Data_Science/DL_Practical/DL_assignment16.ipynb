{
 "cells": [
  {
   "cell_type": "code",
   "execution_count": null,
   "id": "452a22c3-12db-416c-87d8-149e28e93292",
   "metadata": {},
   "outputs": [],
   "source": [
    "from flask import Flask, request, jsonify\n",
    "import cv2\n",
    "import numpy as np\n",
    "from tensorflow.keras.models import load_model\n",
    "\n",
    "# Replace with path to your pre-trained model\n",
    "model_path = \"path/to/gender_age_model.h5\"\n",
    "\n",
    "# Load the pre-trained model\n",
    "model = load_model(model_path)\n",
    "\n",
    "# Define gender and age labels (adjust based on your model's output)\n",
    "gender_labels = [\"Male\", \"Female\"]\n",
    "age_groups = [\"0-20\", \"21-30\", \"31-40\", \"41-50\", \"50+\"]\n",
    "\n",
    "app = Flask(__name__)\n",
    "\n",
    "\n",
    "def preprocess_image(image_bytes):\n",
    "    \"\"\"Preprocesses the uploaded image for the model.\"\"\"\n",
    "    # Read image from bytes\n",
    "    image = cv2.imdecode(np.frombuffer(image_bytes, np.uint8), cv2.IMREAD_COLOR)\n",
    "    # Resize image (adjust based on model requirements)\n",
    "    image = cv2.resize(image, (224, 224))\n",
    "    # Convert to RGB (assuming model expects RGB)\n",
    "    image = cv2.cvtColor(image, cv2.COLOR_BGR2RGB)\n",
    "    # Normalize pixel values (adjust based on model requirements)\n",
    "    image = image.astype('float32') / 255.0\n",
    "    # Expand dimensions for batch processing (optional, some models might not need this)\n",
    "    image = np.expand_dims(image, axis=0)\n",
    "    return image\n",
    "\n",
    "\n",
    "@app.route(\"/predict\", methods=[\"POST\"])\n",
    "def predict_gender_age():\n"
   ]
  }
 ],
 "metadata": {
  "kernelspec": {
   "display_name": "Python 3 (ipykernel)",
   "language": "python",
   "name": "python3"
  },
  "language_info": {
   "codemirror_mode": {
    "name": "ipython",
    "version": 3
   },
   "file_extension": ".py",
   "mimetype": "text/x-python",
   "name": "python",
   "nbconvert_exporter": "python",
   "pygments_lexer": "ipython3",
   "version": "3.9.13"
  }
 },
 "nbformat": 4,
 "nbformat_minor": 5
}
