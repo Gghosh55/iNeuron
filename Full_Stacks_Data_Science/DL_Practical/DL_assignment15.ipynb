{
 "cells": [
  {
   "cell_type": "code",
   "execution_count": null,
   "id": "8e01e036-df52-4fdd-b13a-a8e29632cca0",
   "metadata": {},
   "outputs": [],
   "source": [
    "from fastapi import FastAPI, File, UploadFile\n",
    "import cv2\n",
    "import numpy as np\n",
    "from tensorflow.keras.models import load_model\n",
    "\n",
    "# Replace with path to your downloaded model\n",
    "model_path = \"path/to/style_transfer_model.h5\"\n",
    "\n",
    "# Load the style transfer model\n",
    "model = load_model(model_path)\n",
    "\n",
    "app = FastAPI()\n",
    "\n",
    "\n",
    "def preprocess_image(image_bytes, target_size=(224, 224)):\n",
    "    \"\"\"Preprocesses the uploaded image for style transfer.\"\"\"\n",
    "    # Read image from bytes\n",
    "    image = cv2.imdecode(np.frombuffer(image_bytes, np.uint8), cv2.IMREAD_COLOR)\n",
    "    # Resize image\n",
    "    image = cv2.resize(image, target_size)\n",
    "    # Convert to RGB (assuming model expects RGB)\n",
    "    image = cv2.cvtColor(image, cv2.COLOR_BGR2RGB)\n",
    "    # Normalize pixel values (adjust based on model requirements)\n",
    "    image = image.astype('float32') / 255.0\n",
    "    # Expand dimensions for batch processing\n",
    "    image = np.expand_dims(image, axis=0)\n",
    "    return image\n",
    "\n",
    "\n",
    "def perform_style_transfer(content_image, style_image):\n",
    "    \"\"\"Applies style transfer using the loaded model.\"\"\"\n",
    "    # Preprocess images\n",
    "    content_image = preprocess_image(content_image)\n",
    "    style_image = preprocess_image(style_image)\n",
    "\n",
    "    # Use the model for style transfer (model specific implementation)\n",
    "    # This part depends on your chosen model's API\n",
    "    stylized_image = model.predict([content_image, style_image])[0]\n",
    "\n",
    "    # Post-process the stylized image (optional)\n",
    "    # You might need to adjust colors\n"
   ]
  }
 ],
 "metadata": {
  "kernelspec": {
   "display_name": "Python 3 (ipykernel)",
   "language": "python",
   "name": "python3"
  },
  "language_info": {
   "codemirror_mode": {
    "name": "ipython",
    "version": 3
   },
   "file_extension": ".py",
   "mimetype": "text/x-python",
   "name": "python",
   "nbconvert_exporter": "python",
   "pygments_lexer": "ipython3",
   "version": "3.9.13"
  }
 },
 "nbformat": 4,
 "nbformat_minor": 5
}
