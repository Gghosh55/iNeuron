{
 "cells": [
  {
   "cell_type": "code",
   "execution_count": null,
   "id": "25178c7e-7a0e-4100-861c-667db3975e6b",
   "metadata": {},
   "outputs": [],
   "source": [
    "from flask import Flask, render_template, request\n",
    "import tensorflow as tf\n",
    "from tensorflow.keras.applications import InceptionV3\n",
    "from tensorflow.keras.preprocessing import image\n",
    "from tensorflow.keras.preprocessing.image import img_to_array\n",
    "\n",
    "# Define category labels (replace with actual labels from the dataset)\n",
    "categories = [\"bathroom\", \"bedroom\", \"closet\", \"...\"]  # Add all 67 categories\n",
    "\n",
    "app = Flask(__name__)\n",
    "\n",
    "# Load pre-trained InceptionV3 model with weights from ImageNet\n",
    "model = InceptionV3(weights=\"imagenet\", include_top=False)\n",
    "\n",
    "# Function to preprocess image and predict scene\n",
    "def predict_scene(image_file):\n",
    "    img = image.load_img(image_file, target_size=(224, 224))\n",
    "    x = image.img_to_array(img)\n",
    "    x = np.expand_dims(x, axis=0)\n",
    "    x = preprocess_input(x)  # Preprocess image (replace with your specific preprocessing steps)\n",
    "    preds = model.predict(x)\n",
    "    # Get the predicted class label and confidence score\n",
    "    predicted_class_index = np.argmax(preds[0])\n",
    "    confidence_score = preds[0][predicted_class_index]\n",
    "    predicted_scene = categories[predicted_class_index]\n",
    "    return predicted_scene, confidence_score\n",
    "\n",
    "@app.route(\"/\")\n",
    "def home():\n",
    "    return render_template(\"index.html\")\n",
    "\n",
    "@app.route(\"/upload\", methods=[\"POST\"])\n",
    "def upload():\n",
    "    if request.method == \"POST\":\n",
    "        # Get uploaded image file\n",
    "        image_file = request.files[\"image\"]\n",
    "        if image_file:\n",
    "            # Predict scene and confidence score\n",
    "            predicted_scene, confidence_score = predict_scene(image_file)\n",
    "            return render_template(\"result.html\", image_path=image_file.filename, scene=predicted_scene, score=confidence_score)\n",
    "        else:\n",
    "            return render_template(\"error.html\", message=\"No image uploaded!\")\n",
    "\n",
    "if __name__ == \"__main__\":\n",
    "    app.run(debug=True)\n"
   ]
  }
 ],
 "metadata": {
  "kernelspec": {
   "display_name": "Python 3 (ipykernel)",
   "language": "python",
   "name": "python3"
  },
  "language_info": {
   "codemirror_mode": {
    "name": "ipython",
    "version": 3
   },
   "file_extension": ".py",
   "mimetype": "text/x-python",
   "name": "python",
   "nbconvert_exporter": "python",
   "pygments_lexer": "ipython3",
   "version": "3.9.13"
  }
 },
 "nbformat": 4,
 "nbformat_minor": 5
}
