{
 "cells": [
  {
   "cell_type": "code",
   "execution_count": 2,
   "id": "8088492c-1f67-40b2-a5ac-d54132e8cce4",
   "metadata": {},
   "outputs": [
    {
     "name": "stdin",
     "output_type": "stream",
     "text": [
      "Enter the upper limit (n):  20\n"
     ]
    },
    {
     "name": "stdout",
     "output_type": "stream",
     "text": [
      "Numbers divisible by 7 in the range 0 to 20 :\n",
      "0\n",
      "7\n",
      "14\n"
     ]
    }
   ],
   "source": [
    "#Define a class with a generator which can iterate the numbers, which are divisible by 7, between a given range 0 and n.\n",
    "class DivisibleBySeven:\n",
    "    def __init__(self, n):\n",
    "        self.n = n\n",
    "\n",
    "    def divisible_by_seven_generator(self):\n",
    "        for i in range(self.n + 1):\n",
    "            if i % 7 == 0:\n",
    "                yield i\n",
    "\n",
    "n = int(input(\"Enter the upper limit (n): \"))\n",
    "div_by_seven = DivisibleBySeven(n)\n",
    "\n",
    "print(\"Numbers divisible by 7 in the range 0 to\", n, \":\")\n",
    "for num in div_by_seven.divisible_by_seven_generator():\n",
    "    print(num)\n"
   ]
  },
  {
   "cell_type": "code",
   "execution_count": 3,
   "id": "a856f30d-7392-465d-81d4-5c1280f6db48",
   "metadata": {},
   "outputs": [
    {
     "name": "stdin",
     "output_type": "stream",
     "text": [
      "Enter a sentence:  New to Python or choosing between Python 2 and Python 3? Read Python 2 or Python 3.\n"
     ]
    },
    {
     "name": "stdout",
     "output_type": "stream",
     "text": [
      "2:2\n",
      "3.:1\n",
      "3?:1\n",
      "New:1\n",
      "Python:5\n",
      "Read:1\n",
      "and:1\n",
      "between:1\n",
      "choosing:1\n",
      "or:2\n",
      "to:1\n"
     ]
    }
   ],
   "source": [
    "#Write a program to compute the frequency of the words from the input. The output should output after sorting the key alphanumerically.\n",
    "input_sentence = input(\"Enter a sentence: \")\n",
    "\n",
    "words = input_sentence.split()\n",
    "word_frequency = {}\n",
    "for word in words:\n",
    "    word_frequency[word] = word_frequency.get(word, 0) + 1\n",
    "\n",
    "sorted_word_frequency = dict(sorted(word_frequency.items()))\n",
    "\n",
    "for word, frequency in sorted_word_frequency.items():\n",
    "    print(f\"{word}:{frequency}\")\n"
   ]
  },
  {
   "cell_type": "code",
   "execution_count": 4,
   "id": "971dbff4-6514-419b-832e-a34622b855dd",
   "metadata": {},
   "outputs": [
    {
     "name": "stdout",
     "output_type": "stream",
     "text": [
      "Person's gender: Unknown\n",
      "Male's gender: Male\n",
      "Female's gender: Female\n"
     ]
    }
   ],
   "source": [
    "#Define a class Person and its two child classes: Male and Female. All classes have a method \"getGender\" which can print\"Male\" for Male class and \"Female\" for Female class.\n",
    "class Person:\n",
    "    def getGender(self):\n",
    "        return \"Unknown\"\n",
    "\n",
    "class Male(Person):\n",
    "    def getGender(self):\n",
    "        return \"Male\"\n",
    "\n",
    "class Female(Person):\n",
    "    def getGender(self):\n",
    "        return \"Female\"\n",
    "\n",
    "person = Person()\n",
    "male = Male()\n",
    "female = Female()\n",
    "\n",
    "print(\"Person's gender:\", person.getGender())\n",
    "print(\"Male's gender:\", male.getGender())\n",
    "print(\"Female's gender:\", female.getGender())\n"
   ]
  },
  {
   "cell_type": "code",
   "execution_count": 5,
   "id": "12238646-baf3-4d5b-bc4d-f127317adc95",
   "metadata": {},
   "outputs": [
    {
     "name": "stdout",
     "output_type": "stream",
     "text": [
      "I Play Hockey.\n",
      "I Play Football.\n",
      "I Love Hockey.\n",
      "I Love Football.\n",
      "You Play Hockey.\n",
      "You Play Football.\n",
      "You Love Hockey.\n",
      "You Love Football.\n"
     ]
    }
   ],
   "source": [
    "#Please write a program to generate all sentences where subject is in [\"I\", \"You\"] and verb is in [\"Play\", \"Love\"] and the object is in [\"Hockey\",\"Football\"].\n",
    "subjects = [\"I\", \"You\"]\n",
    "verbs = [\"Play\", \"Love\"]\n",
    "objects = [\"Hockey\", \"Football\"]\n",
    "\n",
    "for subject in subjects:\n",
    "    for verb in verbs:\n",
    "        for obj in objects:\n",
    "            sentence = f\"{subject} {verb} {obj}.\"\n",
    "            print(sentence)\n"
   ]
  },
  {
   "cell_type": "code",
   "execution_count": 6,
   "id": "309d30e9-751f-400e-a09d-072717ae338f",
   "metadata": {},
   "outputs": [
    {
     "name": "stdout",
     "output_type": "stream",
     "text": [
      "Original string: hello world!hello world!hello world!hello world!\n",
      "Compressed string: b'x\\x9c\\xcbH\\xcd\\xc9\\xc9W(\\xcf/\\xcaIQ\\xcc \\x82\\r\\x00\\xbd[\\x11\\xf5'\n",
      "Decompressed string: hello world!hello world!hello world!hello world!\n"
     ]
    }
   ],
   "source": [
    "#Please write a program to compress and decompress the string \"hello world!hello world!hello world!hello world!\".\n",
    "import zlib\n",
    "input_string = \"hello world!hello world!hello world!hello world!\"\n",
    "compressed_data = zlib.compress(input_string.encode())\n",
    "decompressed_data = zlib.decompress(compressed_data)\n",
    "\n",
    "print(\"Original string:\", input_string)\n",
    "print(\"Compressed string:\", compressed_data)\n",
    "print(\"Decompressed string:\", decompressed_data.decode())\n"
   ]
  },
  {
   "cell_type": "code",
   "execution_count": 7,
   "id": "17a21ce1-8b1e-4911-8962-0fe8a6f98411",
   "metadata": {},
   "outputs": [
    {
     "name": "stdout",
     "output_type": "stream",
     "text": [
      "Element 5 found at index 4\n"
     ]
    }
   ],
   "source": [
    "#Please write a binary search function which searches an item in a sorted list. The function should return the index of element to be searched in the list.\n",
    "def binary_search(arr, target):\n",
    "    left, right = 0, len(arr) - 1\n",
    "\n",
    "    while left <= right:\n",
    "        mid = (left + right) // 2\n",
    "\n",
    "        if arr[mid] == target:\n",
    "            return mid\n",
    "        elif arr[mid] < target:\n",
    "            left = mid + 1\n",
    "        else:\n",
    "            right = mid - 1\n",
    "\n",
    "    return -1  \n",
    "\n",
    "sorted_list = [1, 2, 3, 4, 5, 6, 7, 8, 9]\n",
    "target = 5\n",
    "\n",
    "result = binary_search(sorted_list, target)\n",
    "\n",
    "if result != -1:\n",
    "    print(f\"Element {target} found at index {result}\")\n",
    "else:\n",
    "    print(f\"Element {target} not found in the list\")\n"
   ]
  },
  {
   "cell_type": "code",
   "execution_count": null,
   "id": "a61fa76a-0673-4fd0-9a4b-af28d5dd7c04",
   "metadata": {},
   "outputs": [],
   "source": []
  }
 ],
 "metadata": {
  "kernelspec": {
   "display_name": "Python 3 (ipykernel)",
   "language": "python",
   "name": "python3"
  },
  "language_info": {
   "codemirror_mode": {
    "name": "ipython",
    "version": 3
   },
   "file_extension": ".py",
   "mimetype": "text/x-python",
   "name": "python",
   "nbconvert_exporter": "python",
   "pygments_lexer": "ipython3",
   "version": "3.9.13"
  }
 },
 "nbformat": 4,
 "nbformat_minor": 5
}
