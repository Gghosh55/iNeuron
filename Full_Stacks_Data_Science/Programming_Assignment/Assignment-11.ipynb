{
 "cells": [
  {
   "cell_type": "code",
   "execution_count": 1,
   "id": "4846340e-7018-422e-83bb-1799f17ab599",
   "metadata": {},
   "outputs": [
    {
     "name": "stdout",
     "output_type": "stream",
     "text": [
      "Words longer than 7 characters: ['elephant', 'encyclopedia']\n"
     ]
    }
   ],
   "source": [
    "#Write a Python program to find words which are greater than given length k?\n",
    "def find_words_greater_than_length(text, k):\n",
    "    words = text.split()\n",
    "    long_words = [word for word in words if len(word) > k]\n",
    "    return long_words\n",
    "\n",
    "input_text = \"This is a sample text with some long words like elephant and encyclopedia\"\n",
    "k = 7 \n",
    "result = find_words_greater_than_length(input_text, k)\n",
    "print(f\"Words longer than {k} characters: {result}\")\n"
   ]
  },
  {
   "cell_type": "code",
   "execution_count": 2,
   "id": "23a5dce3-ea6e-4f5a-b365-697ff7cd06e3",
   "metadata": {},
   "outputs": [
    {
     "name": "stdout",
     "output_type": "stream",
     "text": [
      "String after removing character at index 7: Hello, orld!\n"
     ]
    }
   ],
   "source": [
    "#Write a Python program for removing i-th character from a string?\n",
    "def remove_character_at_index(input_string, index):\n",
    "    if index < 0 or index >= len(input_string):\n",
    "        return \"Invalid index\"\n",
    "    \n",
    "    new_string = input_string[:index] + input_string[index+1:]\n",
    "    return new_string\n",
    "\n",
    "input_string = \"Hello, World!\"\n",
    "index_to_remove = 7  \n",
    "result = remove_character_at_index(input_string, index_to_remove)\n",
    "print(f\"String after removing character at index {index_to_remove}: {result}\")\n"
   ]
  },
  {
   "cell_type": "code",
   "execution_count": 3,
   "id": "bca8913c-cbfb-498a-8a73-12c4c8f76e82",
   "metadata": {},
   "outputs": [
    {
     "name": "stdout",
     "output_type": "stream",
     "text": [
      "Original string: This is a sample string\n",
      "String after split and join: This is a sample string\n"
     ]
    }
   ],
   "source": [
    "#Write a Python program to split and join a string?\n",
    "def split_and_join(input_string, delimiter):\n",
    "    words = input_string.split(delimiter)\n",
    "    new_string = ' '.join(words)    \n",
    "    return new_string\n",
    "    \n",
    "input_string = \"This is a sample string\"\n",
    "delimiter = \" \"  \n",
    "result = split_and_join(input_string, delimiter)\n",
    "print(\"Original string:\", input_string)\n",
    "print(\"String after split and join:\", result)\n"
   ]
  },
  {
   "cell_type": "code",
   "execution_count": 4,
   "id": "2a06b51d-5fbf-45a0-8d82-36cd60e8aac1",
   "metadata": {},
   "outputs": [
    {
     "name": "stdout",
     "output_type": "stream",
     "text": [
      "The string is a binary string.\n"
     ]
    }
   ],
   "source": [
    "#Write a Python to check if a given string is binary string or not?\n",
    "def is_binary_string(input_string):   \n",
    "    for char in input_string:\n",
    "        if char not in '01':\n",
    "            return False\n",
    "    return True\n",
    "\n",
    "binary_string = \"101010101\"\n",
    "result = is_binary_string(binary_string)\n",
    "if result:\n",
    "    print(\"The string is a binary string.\")\n",
    "else:\n",
    "    print(\"The string is not a binary string.\")\n"
   ]
  },
  {
   "cell_type": "code",
   "execution_count": 5,
   "id": "f6f656e9-d7c7-41ce-80f8-39a6270065ed",
   "metadata": {},
   "outputs": [
    {
     "name": "stdout",
     "output_type": "stream",
     "text": [
      "Uncommon words between the two strings: ['Here', 'some', 'a', 'This', 'another', 'different']\n"
     ]
    }
   ],
   "source": [
    "#Write a Python program to find uncommon words from two Strings?\n",
    "def find_uncommon_words(string1, string2):   \n",
    "    words1 = string1.split()\n",
    "    words2 = string2.split()    \n",
    "    uncommon_words = set(words1) ^ set(words2)    \n",
    "    return list(uncommon_words)\n",
    "\n",
    "string1 = \"This is a sample string with some words.\"\n",
    "string2 = \"Here is another sample string with different words.\"\n",
    "result = find_uncommon_words(string1, string2)\n",
    "print(\"Uncommon words between the two strings:\", result)\n"
   ]
  },
  {
   "cell_type": "code",
   "execution_count": 6,
   "id": "8e0de56d-796a-4c1f-b916-24cf580150fc",
   "metadata": {},
   "outputs": [
    {
     "name": "stdout",
     "output_type": "stream",
     "text": [
      "Duplicate characters in the string: ['r', 'm', 'g']\n"
     ]
    }
   ],
   "source": [
    "#Write a Python to find all duplicate characters in string?\n",
    "def find_duplicate_characters(input_string):   \n",
    "    seen_chars = set()   \n",
    "    duplicates = []\n",
    "    \n",
    "    for char in input_string:\n",
    "        if char in seen_chars:\n",
    "            duplicates.append(char)\n",
    "        else:\n",
    "            seen_chars.add(char)\n",
    "    \n",
    "    return duplicates\n",
    "\n",
    "input_string = \"programming\"\n",
    "result = find_duplicate_characters(input_string)\n",
    "print(\"Duplicate characters in the string:\", result)\n"
   ]
  },
  {
   "cell_type": "code",
   "execution_count": null,
   "id": "03d17e86-6438-491f-b2eb-8004d71d2a9d",
   "metadata": {},
   "outputs": [],
   "source": [
    "#Write a Python Program to check if a string contains any special character?\n",
    "import re\n",
    "\n",
    "def contains_special_characters(input_string):   \n",
    "    special_char_pattern = re.compile(r'[^a-zA-Z0-9]')\n",
    "    return bool(special_char_pattern.search(input_string))\n",
    "\n",
    "input_string = \"Hello, World!\"\n",
    "result = contains_special_characters(input_string)\n",
    "\n",
    "if result:\n",
    "    print(\"The string contains special characters.\")\n",
    "else:\n",
    "    print(\"The string does not contain any special characters.\")\n"
   ]
  }
 ],
 "metadata": {
  "kernelspec": {
   "display_name": "Python 3 (ipykernel)",
   "language": "python",
   "name": "python3"
  },
  "language_info": {
   "codemirror_mode": {
    "name": "ipython",
    "version": 3
   },
   "file_extension": ".py",
   "mimetype": "text/x-python",
   "name": "python",
   "nbconvert_exporter": "python",
   "pygments_lexer": "ipython3",
   "version": "3.9.13"
  }
 },
 "nbformat": 4,
 "nbformat_minor": 5
}
