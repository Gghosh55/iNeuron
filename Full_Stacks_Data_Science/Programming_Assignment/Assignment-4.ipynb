{
 "cells": [
  {
   "cell_type": "code",
   "execution_count": 1,
   "id": "9a12d9cf-5544-4401-ba4e-5f54d074b35e",
   "metadata": {},
   "outputs": [
    {
     "name": "stdin",
     "output_type": "stream",
     "text": [
      "Enter a number:  5\n"
     ]
    },
    {
     "name": "stdout",
     "output_type": "stream",
     "text": [
      "The factorial of 5 is 120\n"
     ]
    }
   ],
   "source": [
    "#Write a Python Program to Find the Factorial of a Number\n",
    "num = int(input(\"Enter a number: \"))\n",
    "factorial = 1\n",
    "if num < 0:\n",
    "    print(\"Factorial is undefined for negative numbers.\")\n",
    "elif num == 0:\n",
    "    print(\"The factorial of 0 is 1.\")\n",
    "else:\n",
    "    for i in range(1, num + 1):\n",
    "        factorial *= i\n",
    "    print(f\"The factorial of {num} is {factorial}\")\n"
   ]
  },
  {
   "cell_type": "code",
   "execution_count": 2,
   "id": "d89c7784-341f-4808-bbc4-e27c7d1e0259",
   "metadata": {},
   "outputs": [
    {
     "name": "stdin",
     "output_type": "stream",
     "text": [
      "Enter a number to display its multiplication table:  2\n"
     ]
    },
    {
     "name": "stdout",
     "output_type": "stream",
     "text": [
      "Multiplication table for 2:\n",
      "2 x 1 = 2\n",
      "2 x 2 = 4\n",
      "2 x 3 = 6\n",
      "2 x 4 = 8\n",
      "2 x 5 = 10\n",
      "2 x 6 = 12\n",
      "2 x 7 = 14\n",
      "2 x 8 = 16\n",
      "2 x 9 = 18\n",
      "2 x 10 = 20\n"
     ]
    }
   ],
   "source": [
    "#Write a Python Program to Display the multiplication Table\n",
    "num = int(input(\"Enter a number to display its multiplication table: \"))\n",
    "print(f\"Multiplication table for {num}:\")\n",
    "for i in range(1, 11):\n",
    "    result = num * i\n",
    "    print(f\"{num} x {i} = {result}\")\n"
   ]
  },
  {
   "cell_type": "code",
   "execution_count": 3,
   "id": "24304be1-58e8-4490-9392-00728536b4b0",
   "metadata": {},
   "outputs": [
    {
     "name": "stdin",
     "output_type": "stream",
     "text": [
      "Enter the number of terms for the Fibonacci sequence:  12\n"
     ]
    },
    {
     "name": "stdout",
     "output_type": "stream",
     "text": [
      "Fibonacci sequence:\n",
      "0\n",
      "1\n",
      "1\n",
      "2\n",
      "3\n",
      "5\n",
      "8\n",
      "13\n",
      "21\n",
      "34\n",
      "55\n",
      "89\n"
     ]
    }
   ],
   "source": [
    "#Write a Python Program to Print the Fibonacci sequence\n",
    "num_terms = int(input(\"Enter the number of terms for the Fibonacci sequence: \"))\n",
    "a, b = 0, 1\n",
    "\n",
    "if num_terms <= 0:\n",
    "    print(\"Please enter a positive integer.\")\n",
    "elif num_terms == 1:\n",
    "    print(\"Fibonacci sequence up to 1 term:\")\n",
    "    print(a)\n",
    "else:\n",
    "    print(\"Fibonacci sequence:\")\n",
    "    print(a)\n",
    "    print(b)\n",
    "    for _ in range(2, num_terms):\n",
    "      \n",
    "        next_term = a + b\n",
    "        print(next_term)\n",
    "      \n",
    "        a, b = b, next_term\n"
   ]
  },
  {
   "cell_type": "code",
   "execution_count": 5,
   "id": "25cf53cb-0d11-4ab7-b62e-36d50bccb760",
   "metadata": {},
   "outputs": [
    {
     "name": "stdin",
     "output_type": "stream",
     "text": [
      "Enter a number:  370\n"
     ]
    },
    {
     "name": "stdout",
     "output_type": "stream",
     "text": [
      "370 is an Armstrong number.\n"
     ]
    }
   ],
   "source": [
    "#Write a Python Program to Check Armstrong Number\n",
    "num = int(input(\"Enter a number: \"))\n",
    "num_copy = num\n",
    "num_of_digits = 0\n",
    "while num_copy > 0:\n",
    "    num_copy //= 10\n",
    "    num_of_digits += 1\n",
    "num_copy = num\n",
    "sum_of_powers = 0\n",
    "while num_copy > 0:\n",
    "    digit = num_copy % 10\n",
    "    sum_of_powers += digit ** num_of_digits\n",
    "    num_copy //= 10\n",
    "if num == sum_of_powers:\n",
    "    print(f\"{num} is an Armstrong number.\")\n",
    "else:\n",
    "    print(f\"{num} is not an Armstrong number.\")\n"
   ]
  },
  {
   "cell_type": "code",
   "execution_count": 6,
   "id": "d7f4b0f5-70d8-4a34-9273-40adcf1c3aae",
   "metadata": {},
   "outputs": [
    {
     "name": "stdin",
     "output_type": "stream",
     "text": [
      "Enter the lower bound of the interval:  100\n",
      "Enter the upper bound of the interval:  800\n"
     ]
    },
    {
     "name": "stdout",
     "output_type": "stream",
     "text": [
      "Armstrong numbers in the interval [100, 800]:\n",
      "153\n",
      "370\n",
      "371\n",
      "407\n"
     ]
    }
   ],
   "source": [
    "#Write a Python Program to Find Armstrong Number in an Interval\n",
    "lower_bound = int(input(\"Enter the lower bound of the interval: \"))\n",
    "upper_bound = int(input(\"Enter the upper bound of the interval: \"))\n",
    "def calculate_sum_of_powers(number):\n",
    "    num_of_digits = len(str(number))\n",
    "    num_copy = number\n",
    "    sum_of_powers = 0\n",
    "    while num_copy > 0:\n",
    "        digit = num_copy % 10\n",
    "        sum_of_powers += digit ** num_of_digits\n",
    "        num_copy //= 10\n",
    "    return sum_of_powers\n",
    "print(f\"Armstrong numbers in the interval [{lower_bound}, {upper_bound}]:\")\n",
    "for num in range(lower_bound, upper_bound + 1):\n",
    "    if num == calculate_sum_of_powers(num):\n",
    "        print(num)\n"
   ]
  },
  {
   "cell_type": "code",
   "execution_count": 7,
   "id": "acc1586f-e832-457b-9cc1-c66086b16e08",
   "metadata": {},
   "outputs": [
    {
     "name": "stdin",
     "output_type": "stream",
     "text": [
      "Enter a positive integer:  3\n"
     ]
    },
    {
     "name": "stdout",
     "output_type": "stream",
     "text": [
      "The sum of the first 3 natural numbers is 6.\n"
     ]
    }
   ],
   "source": [
    "#Write a Python Program to Find the Sum of Natural Numbers\n",
    "\n",
    "n = int(input(\"Enter a positive integer: \"))\n",
    "\n",
    "if n <= 0:\n",
    "    print(\"Please enter a positive integer.\")\n",
    "else:\n",
    "   \n",
    "    sum_of_natural_numbers = (n * (n + 1)) // 2\n",
    "    print(f\"The sum of the first {n} natural numbers is {sum_of_natural_numbers}.\")\n"
   ]
  },
  {
   "cell_type": "code",
   "execution_count": null,
   "id": "c9121ea9-3e12-48e6-8bc1-119c578c2f9f",
   "metadata": {},
   "outputs": [],
   "source": []
  }
 ],
 "metadata": {
  "kernelspec": {
   "display_name": "Python 3 (ipykernel)",
   "language": "python",
   "name": "python3"
  },
  "language_info": {
   "codemirror_mode": {
    "name": "ipython",
    "version": 3
   },
   "file_extension": ".py",
   "mimetype": "text/x-python",
   "name": "python",
   "nbconvert_exporter": "python",
   "pygments_lexer": "ipython3",
   "version": "3.9.13"
  }
 },
 "nbformat": 4,
 "nbformat_minor": 5
}
