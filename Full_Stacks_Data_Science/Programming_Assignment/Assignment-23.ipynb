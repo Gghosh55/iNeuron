{
 "cells": [
  {
   "cell_type": "code",
   "execution_count": 1,
   "id": "e07335b4-699c-4a59-9d19-90da3a5eca54",
   "metadata": {},
   "outputs": [
    {
     "name": "stdout",
     "output_type": "stream",
     "text": [
      "True\n",
      "False\n",
      "True\n",
      "False\n",
      "True\n"
     ]
    }
   ],
   "source": [
    "#Create a function that takes a number as an argument and returns True or False depending on whether the number is symmetrical or not. A number is symmetrical when it is the same as its reverse.\n",
    "def is_symmetrical(num):    \n",
    "    return str(num) == str(num)[::-1]\n",
    "    \n",
    "print(is_symmetrical(7227))  # Output: True\n",
    "print(is_symmetrical(12567))  # Output: False\n",
    "print(is_symmetrical(44444444))  # Output: True\n",
    "print(is_symmetrical(9939))  # Output: False\n",
    "print(is_symmetrical(1112111))  # Output: True\n"
   ]
  },
  {
   "cell_type": "code",
   "execution_count": 2,
   "id": "a4ea0294-1e25-487d-9ca0-29f4c799d04c",
   "metadata": {},
   "outputs": [
    {
     "name": "stdout",
     "output_type": "stream",
     "text": [
      "6\n",
      "24\n",
      "0\n",
      "-20\n"
     ]
    }
   ],
   "source": [
    "#Given a string of numbers separated by a comma and space, return the product of the numbers.\n",
    "def multiply_nums(numbers):    \n",
    "    num_list = [int(num) for num in numbers.split(', ')]      \n",
    "    from functools import reduce\n",
    "    return reduce(lambda x, y: x * y, num_list)\n",
    "    \n",
    "print(multiply_nums(\"2, 3\"))  # Output: 6\n",
    "print(multiply_nums(\"1, 2, 3, 4\"))  # Output: 24\n",
    "print(multiply_nums(\"54, 75, 453, 0\"))  # Output: 0\n",
    "print(multiply_nums(\"10, -2\"))  # Output: -20\n"
   ]
  },
  {
   "cell_type": "code",
   "execution_count": 3,
   "id": "6b2f14c3-54b0-4de4-8dbf-c70acaa4d6f7",
   "metadata": {},
   "outputs": [
    {
     "name": "stdout",
     "output_type": "stream",
     "text": [
      "811181\n",
      "416649\n",
      "9414\n"
     ]
    }
   ],
   "source": [
    "#Create a function that squares every digit of a number.\n",
    "def square_digits(num):   \n",
    "    squared_digits = int(''.join(str(int(digit) ** 2) for digit in str(num)))\n",
    "    return squared_digits\n",
    "    \n",
    "print(square_digits(9119))  # Output: 811181\n",
    "print(square_digits(2483))  # Output: 416649\n",
    "print(square_digits(3212))  # Output: 9414\n"
   ]
  },
  {
   "cell_type": "code",
   "execution_count": 4,
   "id": "89c7cc46-7f87-43cb-9cfc-3ce6ff63bf24",
   "metadata": {},
   "outputs": [
    {
     "name": "stdout",
     "output_type": "stream",
     "text": [
      "[1, 3, 5]\n",
      "[4]\n",
      "[5, 7, 8, 9, 10, 15]\n",
      "[1, 2, 3]\n"
     ]
    }
   ],
   "source": [
    "#Create a function that sorts a list and removes all duplicate items from it.\n",
    "def setify(lst):\n",
    "    # Use set to remove duplicates and then sort the list\n",
    "    return sorted(set(lst))\n",
    "print(setify([1, 3, 3, 5, 5]))  # Output: [1, 3, 5]\n",
    "print(setify([4, 4, 4, 4]))  # Output: [4]\n",
    "print(setify([5, 7, 8, 9, 10, 15]))  # Output: [5, 7, 8, 9, 10, 15]\n",
    "print(setify([3, 3, 3, 2, 1]))  # Output: [1, 2, 3]\n"
   ]
  },
  {
   "cell_type": "code",
   "execution_count": 5,
   "id": "056cd165-7ff2-4650-ab3c-c09e4c38c07c",
   "metadata": {},
   "outputs": [
    {
     "name": "stdout",
     "output_type": "stream",
     "text": [
      "3\n",
      "3\n",
      "6\n"
     ]
    }
   ],
   "source": [
    "#Create a function that returns the mean of all digits.\n",
    "def mean(num):   \n",
    "    digit_sum = sum(int(digit) for digit in str(num))\n",
    "    num_digits = len(str(num))\n",
    "    return round(digit_sum / num_digits)\n",
    "print(mean(42))  # Output: 3\n",
    "print(mean(12345))  # Output: 3\n",
    "print(mean(666))  # Output: 6\n"
   ]
  },
  {
   "cell_type": "code",
   "execution_count": null,
   "id": "5f9c91bc-3eda-40d0-b2c0-93810c4c7f47",
   "metadata": {},
   "outputs": [],
   "source": []
  }
 ],
 "metadata": {
  "kernelspec": {
   "display_name": "Python 3 (ipykernel)",
   "language": "python",
   "name": "python3"
  },
  "language_info": {
   "codemirror_mode": {
    "name": "ipython",
    "version": 3
   },
   "file_extension": ".py",
   "mimetype": "text/x-python",
   "name": "python",
   "nbconvert_exporter": "python",
   "pygments_lexer": "ipython3",
   "version": "3.9.13"
  }
 },
 "nbformat": 4,
 "nbformat_minor": 5
}
