{
 "cells": [
  {
   "cell_type": "code",
   "execution_count": 1,
   "id": "efaf641e-3c55-4582-b506-0afce96f67c8",
   "metadata": {},
   "outputs": [
    {
     "name": "stdout",
     "output_type": "stream",
     "text": [
      "[1, 2]\n",
      "[1, 0, 15]\n",
      "[1, 2, 123]\n"
     ]
    }
   ],
   "source": [
    "#Create a function that takes a list of non-negative integers and strings and return a new list without the strings.\n",
    "def filter_list(lst):\n",
    "    return [x for x in lst if isinstance(x, int) and x >= 0]\n",
    "\n",
    "print(filter_list([1, 2, \"a\", \"b\"])) \n",
    "print(filter_list([1, \"a\", \"b\", 0, 15]))  \n",
    "print(filter_list([1, 2, \"aasf\", \"1\", \"123\", 123]))  \n"
   ]
  },
  {
   "cell_type": "code",
   "execution_count": 2,
   "id": "7e9ee7af-b363-4686-9aa0-0c8c429de92a",
   "metadata": {},
   "outputs": [
    {
     "name": "stdout",
     "output_type": "stream",
     "text": [
      "DLROw OLLEh\n",
      "eSrEvEr\n",
      "RADAr\n"
     ]
    }
   ],
   "source": [
    "#The \"Reverser\" takes a string as input and returns that string in reverse order, with the opposite case.\n",
    "def reverse(text):\n",
    "    reversed_text = \"\"\n",
    "    for char in text[::-1]:\n",
    "        if char.isupper():\n",
    "            reversed_text += char.lower()\n",
    "        else:\n",
    "            reversed_text += char.upper()\n",
    "    return reversed_text\n",
    "\n",
    "print(reverse(\"Hello World\")) \n",
    "print(reverse(\"ReVeRsE\"))     \n",
    "print(reverse(\"Radar\"))       \n"
   ]
  },
  {
   "cell_type": "code",
   "execution_count": 3,
   "id": "0150c813-5cfc-4bf6-9220-4fe5cf422fb4",
   "metadata": {},
   "outputs": [
    {
     "name": "stdout",
     "output_type": "stream",
     "text": [
      "1\n",
      "[2, 3, 4, 5]\n",
      "6\n"
     ]
    }
   ],
   "source": [
    "'''\n",
    "You can assign variables from lists like this:\n",
    "lst = [1, 2, 3, 4, 5, 6]\n",
    "first = lst[0]\n",
    "middle = lst[1:-1]\n",
    "last = lst[-1]\n",
    "'''\n",
    "writeyourcodehere = [1, 2, 3, 4, 5, 6]\n",
    "\n",
    "first, *middle, last = writeyourcodehere\n",
    "\n",
    "print(first)   # Output: 1\n",
    "print(middle)  # Output: [2, 3, 4, 5]\n",
    "print(last)    # Output: 6\n"
   ]
  },
  {
   "cell_type": "code",
   "execution_count": 4,
   "id": "e05345af-1f44-4008-a59e-89bd54713c82",
   "metadata": {},
   "outputs": [
    {
     "name": "stdout",
     "output_type": "stream",
     "text": [
      "120\n",
      "6\n",
      "1\n",
      "1\n"
     ]
    }
   ],
   "source": [
    "#Write a function that calculates the factorial of a number recursively.\n",
    "def factorial(n):\n",
    "    if n == 0:\n",
    "        return 1\n",
    "    else:\n",
    "        return n * factorial(n - 1)\n",
    "\n",
    "print(factorial(5)) \n",
    "print(factorial(3))  \n",
    "print(factorial(1)) \n",
    "print(factorial(0))  \n"
   ]
  },
  {
   "cell_type": "code",
   "execution_count": 5,
   "id": "aecedafd-c132-44d3-b3ef-31f434012d6a",
   "metadata": {},
   "outputs": [
    {
     "name": "stdout",
     "output_type": "stream",
     "text": [
      "[3, 2, 4, 4, 1, 1]\n",
      "[7, 8, 1, 2, 3, 4, 9]\n",
      "['b', 'a', 'a', 'a']\n"
     ]
    }
   ],
   "source": [
    "#Write a function that moves all elements of one type to the end of the list.\n",
    "def move_to_end(lst, element):\n",
    "   \n",
    "    elements_to_move = [e for e in lst if e == element]\n",
    "    remaining_elements = [e for e in lst if e != element]  \n",
    "  \n",
    "    result = remaining_elements + elements_to_move\n",
    "    \n",
    "    return result\n",
    "\n",
    "print(move_to_end([1, 3, 2, 4, 4, 1], 1))     \n",
    "print(move_to_end([7, 8, 9, 1, 2, 3, 4], 9))   \n",
    "print(move_to_end([\"a\", \"a\", \"a\", \"b\"], \"a\"))  \n"
   ]
  },
  {
   "cell_type": "code",
   "execution_count": null,
   "id": "6c59c21a-4838-4be5-a739-b8d4a0fcb826",
   "metadata": {},
   "outputs": [],
   "source": []
  }
 ],
 "metadata": {
  "kernelspec": {
   "display_name": "Python 3 (ipykernel)",
   "language": "python",
   "name": "python3"
  },
  "language_info": {
   "codemirror_mode": {
    "name": "ipython",
    "version": 3
   },
   "file_extension": ".py",
   "mimetype": "text/x-python",
   "name": "python",
   "nbconvert_exporter": "python",
   "pygments_lexer": "ipython3",
   "version": "3.9.13"
  }
 },
 "nbformat": 4,
 "nbformat_minor": 5
}
