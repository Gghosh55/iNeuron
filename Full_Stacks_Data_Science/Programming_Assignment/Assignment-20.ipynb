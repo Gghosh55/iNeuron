{
 "cells": [
  {
   "cell_type": "code",
   "execution_count": 1,
   "id": "84ab8598-c3f8-4d1f-8281-52d15125e0fe",
   "metadata": {},
   "outputs": [
    {
     "name": "stdout",
     "output_type": "stream",
     "text": [
      "[1, 2, 3, 4]\n",
      "[0, 1729]\n",
      "[]\n"
     ]
    }
   ],
   "source": [
    "#Create a function that takes a list of strings and integers, and filters out the list so that it returns a list of integers only.\n",
    "def filter_list(lst):\n",
    "    return [item for item in lst if isinstance(item, int)]\n",
    "\n",
    "print(filter_list([1, 2, 3, \"a\", \"b\", 4]))          \n",
    "print(filter_list([\"A\", 0, \"Edabit\", 1729, \"Python\", \"1729\"]))  \n",
    "print(filter_list([\"Nothing\", \"here\"]))              \n"
   ]
  },
  {
   "cell_type": "code",
   "execution_count": 2,
   "id": "a7f2b98b-6e8e-460d-893b-f8f3104a2999",
   "metadata": {},
   "outputs": [
    {
     "name": "stdout",
     "output_type": "stream",
     "text": [
      "[0, 1, 2, 3, 4]\n",
      "[1, 3, 5, 7, 9]\n",
      "[5, 5, 5, 5, 5]\n"
     ]
    }
   ],
   "source": [
    "#Given a list of numbers, create a function which returns the list but with each element'sindex in the list added to itself. This means you add 0 to the number at index 0, add 1 to the number at index 1, etc...\n",
    "def add_indexes(lst):\n",
    "    return [i + val for i, val in enumerate(lst)]\n",
    "\n",
    "print(add_indexes([0, 0, 0, 0, 0]))     \n",
    "print(add_indexes([1, 2, 3, 4, 5]))      \n",
    "print(add_indexes([5, 4, 3, 2, 1]))     \n"
   ]
  },
  {
   "cell_type": "code",
   "execution_count": 3,
   "id": "4108b1b2-ce6b-418b-bf49-4e7e72e9cfda",
   "metadata": {},
   "outputs": [
    {
     "name": "stdout",
     "output_type": "stream",
     "text": [
      "20.94\n"
     ]
    }
   ],
   "source": [
    "#Create a function that takes the height and radius of a cone as arguments and returns the volume of the cone rounded to the nearest hundredth.\n",
    "import math\n",
    "\n",
    "def cone_volume(height, radius):\n",
    "    volume = (1/3) * math.pi * radius**2 * height\n",
    "    return round(volume, 2)\n",
    "\n",
    "print(cone_volume(5, 2)) \n"
   ]
  },
  {
   "cell_type": "code",
   "execution_count": 4,
   "id": "80ca572a-0085-48dd-b328-8e86301bbca5",
   "metadata": {},
   "outputs": [
    {
     "name": "stdout",
     "output_type": "stream",
     "text": [
      "1\n",
      "21\n",
      "23220\n"
     ]
    }
   ],
   "source": [
    "#Write a function that gives the number of dots with its corresponding triangle number of the sequence.\n",
    "def triangle(n):\n",
    "    dots = (n * (n + 1)) // 2\n",
    "    return dots\n",
    "\n",
    "print(triangle(1))   \n",
    "print(triangle(6))   \n",
    "print(triangle(215)) \n"
   ]
  },
  {
   "cell_type": "code",
   "execution_count": 5,
   "id": "b80e4a23-d005-4a8b-8593-908155f90d60",
   "metadata": {},
   "outputs": [
    {
     "name": "stdout",
     "output_type": "stream",
     "text": [
      "5\n",
      "10\n",
      "7\n"
     ]
    }
   ],
   "source": [
    "#Create a function that takes a list of numbers between 1 and 10 (excluding one number) and returns the missing number.\n",
    "def missing_num(numbers):\n",
    "    expected_sum = sum(range(1, 11))  \n",
    "    actual_sum = sum(numbers)\n",
    "    missing_number = expected_sum - actual_sum\n",
    "    return missing_number\n",
    "\n",
    "print(missing_num([1, 2, 3, 4, 6, 7, 8, 9, 10]))  \n",
    "print(missing_num([7, 2, 3, 6, 5, 9, 1, 4, 8]))   \n",
    "print(missing_num([10, 5, 1, 2, 4, 6, 8, 3, 9]))   \n"
   ]
  },
  {
   "cell_type": "code",
   "execution_count": null,
   "id": "e8da8606-935f-4f6b-8bf8-a47d05fa1f0a",
   "metadata": {},
   "outputs": [],
   "source": []
  }
 ],
 "metadata": {
  "kernelspec": {
   "display_name": "Python 3 (ipykernel)",
   "language": "python",
   "name": "python3"
  },
  "language_info": {
   "codemirror_mode": {
    "name": "ipython",
    "version": 3
   },
   "file_extension": ".py",
   "mimetype": "text/x-python",
   "name": "python",
   "nbconvert_exporter": "python",
   "pygments_lexer": "ipython3",
   "version": "3.9.13"
  }
 },
 "nbformat": 4,
 "nbformat_minor": 5
}
