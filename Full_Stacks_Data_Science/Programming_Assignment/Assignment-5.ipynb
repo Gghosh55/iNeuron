{
 "cells": [
  {
   "cell_type": "code",
   "execution_count": 2,
   "id": "d38fbf5e-f4d8-486f-9e9d-494f8112030b",
   "metadata": {},
   "outputs": [
    {
     "name": "stdin",
     "output_type": "stream",
     "text": [
      "Enter the first number:  12\n",
      "Enter the second number:  4\n"
     ]
    },
    {
     "name": "stdout",
     "output_type": "stream",
     "text": [
      "The LCM of 12 and 4 is 12.\n"
     ]
    }
   ],
   "source": [
    "#Write a Python Program to Find LCM\n",
    "def gcd(a, b):\n",
    "    while b:\n",
    "        a, b = b, a % b\n",
    "    return a\n",
    "\n",
    "def lcm(a, b):\n",
    "    return (a * b) // gcd(a, b)\n",
    "\n",
    "num1 = int(input(\"Enter the first number: \"))\n",
    "num2 = int(input(\"Enter the second number: \"))\n",
    "\n",
    "result = lcm(num1, num2)\n",
    "print(f\"The LCM of {num1} and {num2} is {result}.\")\n"
   ]
  },
  {
   "cell_type": "code",
   "execution_count": 3,
   "id": "e00e492b-a760-49c9-a3c7-963b42d423d7",
   "metadata": {},
   "outputs": [
    {
     "name": "stdin",
     "output_type": "stream",
     "text": [
      "Enter the first number:  12\n",
      "Enter the second number:  9\n"
     ]
    },
    {
     "name": "stdout",
     "output_type": "stream",
     "text": [
      "The HCF of 12 and 9 is 3.\n"
     ]
    }
   ],
   "source": [
    "#Write a Python Program to Find HCF\n",
    "def gcd(a, b):\n",
    "    while b:\n",
    "        a, b = b, a % b\n",
    "    return a\n",
    "\n",
    "num1 = int(input(\"Enter the first number: \"))\n",
    "num2 = int(input(\"Enter the second number: \"))\n",
    "\n",
    "result = gcd(num1, num2)\n",
    "print(f\"The HCF of {num1} and {num2} is {result}.\")\n"
   ]
  },
  {
   "cell_type": "code",
   "execution_count": 4,
   "id": "1df7c9b1-24c7-40a7-865a-802df585781e",
   "metadata": {},
   "outputs": [
    {
     "name": "stdin",
     "output_type": "stream",
     "text": [
      "Enter a decimal number:  8\n"
     ]
    },
    {
     "name": "stdout",
     "output_type": "stream",
     "text": [
      "Decimal: 8\n",
      "Binary: 0b1000\n",
      "Octal: 0o10\n",
      "Hexadecimal: 0x8\n"
     ]
    }
   ],
   "source": [
    "#Write a Python Program to Convert Decimal to Binary, Octal and Hexadecimal\n",
    "decimal_num = int(input(\"Enter a decimal number: \"))\n",
    "\n",
    "binary_num = bin(decimal_num)\n",
    "octal_num = oct(decimal_num)\n",
    "hexadecimal_num = hex(decimal_num)\n",
    "\n",
    "print(f\"Decimal: {decimal_num}\")\n",
    "print(f\"Binary: {binary_num}\")\n",
    "print(f\"Octal: {octal_num}\")\n",
    "print(f\"Hexadecimal: {hexadecimal_num}\")\n"
   ]
  },
  {
   "cell_type": "code",
   "execution_count": 5,
   "id": "3e1d8035-9f86-4f82-bc61-77f82b671d22",
   "metadata": {},
   "outputs": [
    {
     "name": "stdin",
     "output_type": "stream",
     "text": [
      "Enter a character:  A\n"
     ]
    },
    {
     "name": "stdout",
     "output_type": "stream",
     "text": [
      "The ASCII value of 'A' is 65.\n"
     ]
    }
   ],
   "source": [
    "#Write a Python Program To Find ASCII value of a character\n",
    "char = input(\"Enter a character: \")\n",
    "if len(char) == 1:\n",
    "    ascii_value = ord(char)\n",
    "    print(f\"The ASCII value of '{char}' is {ascii_value}.\")\n",
    "else:\n",
    "    print(\"Please enter a single character.\")\n"
   ]
  },
  {
   "cell_type": "code",
   "execution_count": 7,
   "id": "8f6e7901-28df-43ea-b5db-b6d4da681742",
   "metadata": {},
   "outputs": [
    {
     "name": "stdout",
     "output_type": "stream",
     "text": [
      "Select an operation:\n",
      "1. Addition\n",
      "2. Subtraction\n",
      "3. Multiplication\n",
      "4. Division\n"
     ]
    },
    {
     "name": "stdin",
     "output_type": "stream",
     "text": [
      "Enter choice (1/2/3/4):  3\n",
      "Enter first number:  2\n",
      "Enter second number:  5\n"
     ]
    },
    {
     "name": "stdout",
     "output_type": "stream",
     "text": [
      "The result of multiplication is: 10.0\n"
     ]
    }
   ],
   "source": [
    "#Write a Python Program to Make a Simple Calculator with 4 basic mathematical operations\n",
    "# Function to perform addition\n",
    "def add(x, y):\n",
    "    return x + y\n",
    "\n",
    "# Function to perform subtraction\n",
    "def subtract(x, y):\n",
    "    return x - y\n",
    "\n",
    "# Function to perform multiplication\n",
    "def multiply(x, y):\n",
    "    return x * y\n",
    "\n",
    "# Function to perform division\n",
    "def divide(x, y):\n",
    "    if y == 0:\n",
    "        return \"Division by zero is not allowed.\"\n",
    "    return x / y\n",
    "\n",
    "# Menu for the user\n",
    "print(\"Select an operation:\")\n",
    "print(\"1. Addition\")\n",
    "print(\"2. Subtraction\")\n",
    "print(\"3. Multiplication\")\n",
    "print(\"4. Division\")\n",
    "\n",
    "# Input operation choice\n",
    "choice = input(\"Enter choice (1/2/3/4): \")\n",
    "\n",
    "# Input numbers\n",
    "num1 = float(input(\"Enter first number: \"))\n",
    "num2 = float(input(\"Enter second number: \"))\n",
    "\n",
    "# Perform the selected operation\n",
    "if choice == '1':\n",
    "    result = add(num1, num2)\n",
    "    operation = \"addition\"\n",
    "elif choice == '2':\n",
    "    result = subtract(num1, num2)\n",
    "    operation = \"subtraction\"\n",
    "elif choice == '3':\n",
    "    result = multiply(num1, num2)\n",
    "    operation = \"multiplication\"\n",
    "elif choice == '4':\n",
    "    result = divide(num1, num2)\n",
    "    operation = \"division\"\n",
    "else:\n",
    "    result = \"Invalid input\"\n",
    "    operation = \"\"\n",
    "\n",
    "# Display the result\n",
    "if operation:\n",
    "    print(f\"The result of {operation} is: {result}\")\n",
    "else:\n",
    "    print(\"Invalid operation choice.\")\n"
   ]
  },
  {
   "cell_type": "code",
   "execution_count": null,
   "id": "3da8d98a-be9b-4a29-b81a-154cc3989940",
   "metadata": {},
   "outputs": [],
   "source": []
  }
 ],
 "metadata": {
  "kernelspec": {
   "display_name": "Python 3 (ipykernel)",
   "language": "python",
   "name": "python3"
  },
  "language_info": {
   "codemirror_mode": {
    "name": "ipython",
    "version": 3
   },
   "file_extension": ".py",
   "mimetype": "text/x-python",
   "name": "python",
   "nbconvert_exporter": "python",
   "pygments_lexer": "ipython3",
   "version": "3.9.13"
  }
 },
 "nbformat": 4,
 "nbformat_minor": 5
}
