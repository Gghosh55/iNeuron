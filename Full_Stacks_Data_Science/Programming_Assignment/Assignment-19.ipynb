{
 "cells": [
  {
   "cell_type": "code",
   "execution_count": 1,
   "id": "c3a7879d-166d-479f-8f05-733d51e85cbe",
   "metadata": {},
   "outputs": [
    {
     "name": "stdout",
     "output_type": "stream",
     "text": [
      "SSttrriinngg\n",
      "HHeelllloo  WWoorrlldd!!\n",
      "11223344!!__  \n"
     ]
    }
   ],
   "source": [
    "#Create a function that takes a string and returns a string in which each character is repeated once.\n",
    "def double_char(s):\n",
    "    result = ''.join([char * 2 for char in s])\n",
    "    return result\n",
    "\n",
    "print(double_char(\"String\"))        \n",
    "print(double_char(\"Hello World!\"))   \n",
    "print(double_char(\"1234!_ \"))       \n"
   ]
  },
  {
   "cell_type": "code",
   "execution_count": 2,
   "id": "1a83bd15-3802-4db0-83a3-0f11197659c6",
   "metadata": {},
   "outputs": [
    {
     "name": "stdout",
     "output_type": "stream",
     "text": [
      "False\n",
      "True\n",
      "boolean expected\n",
      "boolean expected\n"
     ]
    }
   ],
   "source": [
    "#Create a function that reverses a boolean value and returns the string \"boolean expected\" if another variable type is given.\n",
    "def reverse(value):\n",
    "    if isinstance(value, bool):\n",
    "        return not value\n",
    "    else:\n",
    "        return \"boolean expected\"\n",
    "\n",
    "print(reverse(True))  \n",
    "print(reverse(False))  \n",
    "print(reverse(0))      \n",
    "print(reverse(None))   \n"
   ]
  },
  {
   "cell_type": "code",
   "execution_count": 3,
   "id": "77b6bdb0-d80a-450d-9640-e6b1908c8d8e",
   "metadata": {},
   "outputs": [
    {
     "name": "stdout",
     "output_type": "stream",
     "text": [
      "0.001m\n",
      "0.008m\n",
      "1048.576m\n"
     ]
    }
   ],
   "source": [
    "#Create a function that returns the thickness (in meters) of a piece of paper after folding it n number of times. The paper starts off with a thickness of 0.5mm.\n",
    "def num_layers(n):  \n",
    "    thickness_mm = 0.5   \n",
    "    for _ in range(n):\n",
    "        thickness_mm *= 2\n",
    "    \n",
    "    thickness_m = thickness_mm / 1000\n",
    "    return \"{:.3f}m\".format(thickness_m)\n",
    "\n",
    "print(num_layers(1))  \n",
    "print(num_layers(4))   \n",
    "print(num_layers(21)) \n"
   ]
  },
  {
   "cell_type": "code",
   "execution_count": 4,
   "id": "ac5b145e-74b3-407c-b0e2-3c548314c5a3",
   "metadata": {},
   "outputs": [
    {
     "name": "stdout",
     "output_type": "stream",
     "text": [
      "[1, 3, 5]\n",
      "[1, 3, 4, 6]\n",
      "[]\n",
      "[0, 1, 2, 3, 4, 5]\n",
      "[1]\n"
     ]
    }
   ],
   "source": [
    "#Create a function that takes a single string as argument and returns an ordered list containing the indices of all capital letters in the string.\n",
    "def index_of_caps(word):\n",
    "    indices = [index for index, char in enumerate(word) if char.isupper()]\n",
    "    return indices\n",
    "\n",
    "print(index_of_caps(\"eDaBiT\"))  \n",
    "print(index_of_caps(\"eQuINoX\"))  \n",
    "print(index_of_caps(\"determine\"))\n",
    "print(index_of_caps(\"STRIKE\"))    \n",
    "print(index_of_caps(\"sUn\"))       \n"
   ]
  },
  {
   "cell_type": "code",
   "execution_count": 5,
   "id": "619730d1-f660-4640-bf01-c89b1925d90f",
   "metadata": {},
   "outputs": [
    {
     "name": "stdout",
     "output_type": "stream",
     "text": [
      "[2, 4, 6, 8]\n",
      "[2, 4]\n",
      "[2]\n"
     ]
    }
   ],
   "source": [
    "#Using list comprehensions, create a function that finds all even numbers from 1 to the given number.\n",
    "def find_even_nums(n):\n",
    "    return [num for num in range(2, n + 1, 2)]\n",
    "\n",
    "print(find_even_nums(8)) \n",
    "print(find_even_nums(4)) \n",
    "print(find_even_nums(2)) \n"
   ]
  },
  {
   "cell_type": "code",
   "execution_count": null,
   "id": "6704a431-fe0c-4284-aacf-17b22b89f09f",
   "metadata": {},
   "outputs": [],
   "source": []
  }
 ],
 "metadata": {
  "kernelspec": {
   "display_name": "Python 3 (ipykernel)",
   "language": "python",
   "name": "python3"
  },
  "language_info": {
   "codemirror_mode": {
    "name": "ipython",
    "version": 3
   },
   "file_extension": ".py",
   "mimetype": "text/x-python",
   "name": "python",
   "nbconvert_exporter": "python",
   "pygments_lexer": "ipython3",
   "version": "3.9.13"
  }
 },
 "nbformat": 4,
 "nbformat_minor": 5
}
