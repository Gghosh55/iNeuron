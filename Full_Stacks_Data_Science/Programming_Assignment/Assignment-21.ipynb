{
 "cells": [
  {
   "cell_type": "code",
   "execution_count": 1,
   "id": "3509ec6e-d43a-4c74-ba33-87c8ce665492",
   "metadata": {},
   "outputs": [
    {
     "name": "stdout",
     "output_type": "stream",
     "text": [
      "[6, 7, 8, 9, 1]\n",
      "[6, 3, 23, 17, 10]\n",
      "[10, 20, 42, 6]\n",
      "No list has been selected\n"
     ]
    }
   ],
   "source": [
    "#Write a function that takes a list and a number as arguments. Add the number to the end of the list, then remove the first element of the list. The function should then return the updated list.\n",
    "def next_in_line(lst, num):\n",
    "    if lst:\n",
    "        lst.append(num)   # Add the number to the end\n",
    "        lst.pop(0)        # Remove the first element\n",
    "        return lst\n",
    "    else:\n",
    "        return \"No list has been selected\"\n",
    "\n",
    "print(next_in_line([5, 6, 7, 8, 9], 1))     \n",
    "print(next_in_line([7, 6, 3, 23, 17], 10))  \n",
    "print(next_in_line([1, 10, 20, 42], 6))     \n",
    "print(next_in_line([], 6))                  \n",
    "\n"
   ]
  },
  {
   "cell_type": "code",
   "execution_count": 2,
   "id": "ed549987-20ed-4920-aa02-62acdc564200",
   "metadata": {},
   "outputs": [
    {
     "name": "stdout",
     "output_type": "stream",
     "text": [
      "65700\n",
      "62600\n"
     ]
    }
   ],
   "source": [
    "#Create the function that takes a list of dictionaries and returns the sum of people's budgets.\n",
    "def get_budgets(people):\n",
    "    total_budget = sum(person[\"budget\"] for person in people)\n",
    "    return total_budget\n",
    "\n",
    "people1 = [\n",
    "    {\"name\": \"John\", \"age\": 21, \"budget\": 23000},\n",
    "    {\"name\": \"Steve\", \"age\": 32, \"budget\": 40000},\n",
    "    {\"name\": \"Martin\", \"age\": 16, \"budget\": 2700}\n",
    "]\n",
    "print(get_budgets(people1))  \n",
    "\n",
    "people2 = [\n",
    "    {\"name\": \"John\", \"age\": 21, \"budget\": 29000},\n",
    "    {\"name\": \"Steve\", \"age\": 32, \"budget\": 32000},\n",
    "    {\"name\": \"Martin\", \"age\": 16, \"budget\": 1600}\n",
    "]\n",
    "print(get_budgets(people2))  \n"
   ]
  },
  {
   "cell_type": "code",
   "execution_count": 3,
   "id": "242670f1-d84c-49d0-81ce-1d43ec3d5af7",
   "metadata": {},
   "outputs": [
    {
     "name": "stdout",
     "output_type": "stream",
     "text": [
      "ehllo\n",
      "abdeit\n",
      "acehkr\n",
      "eegk\n",
      "aacijprstv\n"
     ]
    }
   ],
   "source": [
    "#Create a function that takes a string and returns a string with its letters in alphabetical order.\n",
    "def alphabet_soup(s):\n",
    "    sorted_str = ''.join(sorted(s))\n",
    "    return sorted_str\n",
    "\n",
    "print(alphabet_soup(\"hello\"))       # Output: \"ehllo\"\n",
    "print(alphabet_soup(\"edabit\"))      # Output: \"abdeit\"\n",
    "print(alphabet_soup(\"hacker\"))      # Output: \"acehkr\"\n",
    "print(alphabet_soup(\"geek\"))        # Output: \"eegk\"\n",
    "print(alphabet_soup(\"javascript\"))  # Output: \"aacijprstv\"\n"
   ]
  },
  {
   "cell_type": "code",
   "execution_count": 4,
   "id": "83b216b1-c05a-4b27-8c43-06d829800df7",
   "metadata": {},
   "outputs": [
    {
     "name": "stdout",
     "output_type": "stream",
     "text": [
      "18193.97\n"
     ]
    }
   ],
   "source": [
    "#Create a function that accepts the principal p, the term in years t, the interest rate r, and the number of compounding periods per year n. The function returns the value at the end of term rounded to the nearest cent.\n",
    "def compound_interest(P, t, r, n):\n",
    "    A = P * (1 + (r / n))**(n * t)\n",
    "    return round(A, 2)\n",
    "\n",
    "\n",
    "result = compound_interest(10000, 10, 0.06, 12)\n",
    "print(result)  # Output: 18193.97\n"
   ]
  },
  {
   "cell_type": "code",
   "execution_count": 5,
   "id": "c31ec1f5-0137-4337-8697-3a20bc5215ce",
   "metadata": {},
   "outputs": [
    {
     "name": "stdout",
     "output_type": "stream",
     "text": [
      "[9, 2, 16]\n",
      "[81, 123]\n",
      "[10, 56, 20, 3]\n",
      "[True, 1]\n"
     ]
    }
   ],
   "source": [
    "#Write a function that takes a list of elements and returns only the integers.\n",
    "def return_only_integer(elements):\n",
    "    return [element for element in elements if isinstance(element, int)]\n",
    "\n",
    "# Examples\n",
    "print(return_only_integer([9, 2, \"space\", \"car\", \"lion\", 16]))  # Output: [9, 2, 16]\n",
    "print(return_only_integer([\"hello\", 81, \"basketball\", 123, \"fox\"]))  # Output: [81, 123]\n",
    "print(return_only_integer([10, \"121\", 56, 20, \"car\", 3, \"lion\"]))  # Output: [10, 56, 20, 3]\n",
    "print(return_only_integer([\"String\", True, 3.3, 1]))  # Output: [1]\n"
   ]
  },
  {
   "cell_type": "code",
   "execution_count": null,
   "id": "b6cdcdf3-ea84-40b3-9f69-e673571a57f2",
   "metadata": {},
   "outputs": [],
   "source": []
  }
 ],
 "metadata": {
  "kernelspec": {
   "display_name": "Python 3 (ipykernel)",
   "language": "python",
   "name": "python3"
  },
  "language_info": {
   "codemirror_mode": {
    "name": "ipython",
    "version": 3
   },
   "file_extension": ".py",
   "mimetype": "text/x-python",
   "name": "python",
   "nbconvert_exporter": "python",
   "pygments_lexer": "ipython3",
   "version": "3.9.13"
  }
 },
 "nbformat": 4,
 "nbformat_minor": 5
}
