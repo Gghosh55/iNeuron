{
 "cells": [
  {
   "cell_type": "code",
   "execution_count": 1,
   "id": "449b6330-b5bf-4cca-a855-3e63e6d51f59",
   "metadata": {},
   "outputs": [
    {
     "name": "stdout",
     "output_type": "stream",
     "text": [
      "Unique values from the dictionary: [1, 2, 3, 4, 5, 6, 7]\n"
     ]
    }
   ],
   "source": [
    "#Write a Python program to Extract Unique values dictionary values?\n",
    "def extract_unique_values(dictionary):\n",
    "    unique_values = set()\n",
    "\n",
    "    for value in dictionary.values():\n",
    "        if isinstance(value, list):\n",
    "            unique_values.update(value)\n",
    "        else:\n",
    "            unique_values.add(value)\n",
    "\n",
    "    return list(unique_values)\n",
    "\n",
    "my_dict = {\n",
    "    'a': 1,\n",
    "    'b': [2, 3, 2, 4],\n",
    "    'c': 5,\n",
    "    'd': [6, 7]\n",
    "}\n",
    "\n",
    "result = extract_unique_values(my_dict)\n",
    "print(\"Unique values from the dictionary:\", result)\n"
   ]
  },
  {
   "cell_type": "code",
   "execution_count": 2,
   "id": "15beb319-bf66-4266-8c09-ba7ccb91cd1f",
   "metadata": {},
   "outputs": [
    {
     "name": "stdout",
     "output_type": "stream",
     "text": [
      "Sum of all items in the dictionary: 50\n"
     ]
    }
   ],
   "source": [
    "#Write a Python program to find the sum of all items in a dictionary?\n",
    "def sum_dict_values(dictionary):\n",
    "    total = 0\n",
    "\n",
    "    for value in dictionary.values():\n",
    "        total += value\n",
    "\n",
    "    return total\n",
    "\n",
    "my_dict = {\n",
    "    'a': 5,\n",
    "    'b': 10,\n",
    "    'c': 15,\n",
    "    'd': 20\n",
    "}\n",
    "\n",
    "result = sum_dict_values(my_dict)\n",
    "print(\"Sum of all items in the dictionary:\", result)\n"
   ]
  },
  {
   "cell_type": "code",
   "execution_count": 3,
   "id": "572af127-20f9-4680-a2d0-c47d3962b45a",
   "metadata": {},
   "outputs": [
    {
     "name": "stdout",
     "output_type": "stream",
     "text": [
      "Merged dictionary: {'a': 1, 'b': 3, 'c': 4}\n"
     ]
    }
   ],
   "source": [
    "#Write a Python program to Merging two Dictionaries?\n",
    "def merge_dicts(dict1, dict2):\n",
    "    merged_dict = {**dict1, **dict2}\n",
    "    return merged_dict\n",
    "\n",
    "dict1 = {'a': 1, 'b': 2}\n",
    "dict2 = {'b': 3, 'c': 4}\n",
    "result = merge_dicts(dict1, dict2)\n",
    "print(\"Merged dictionary:\", result)\n"
   ]
  },
  {
   "cell_type": "code",
   "execution_count": 4,
   "id": "4b00eda4-7d55-4d92-adcb-4e7c7c3bba80",
   "metadata": {},
   "outputs": [
    {
     "name": "stdout",
     "output_type": "stream",
     "text": [
      "Flat dictionary: {'a': 1, 'b': 2, 'c': 3}\n"
     ]
    }
   ],
   "source": [
    "#Write a Python program to convert key-values list to flat dictionary?\n",
    "def list_to_flat_dict(key_value_list):\n",
    "    flat_dict = {}\n",
    "    for key, value in key_value_list:\n",
    "        flat_dict[key] = value\n",
    "    return flat_dict\n",
    "\n",
    "key_value_list = [('a', 1), ('b', 2), ('c', 3)]\n",
    "result = list_to_flat_dict(key_value_list)\n",
    "print(\"Flat dictionary:\", result)\n"
   ]
  },
  {
   "cell_type": "code",
   "execution_count": 6,
   "id": "46cf2efd-06fc-48ba-9a50-00a0965d9ffa",
   "metadata": {},
   "outputs": [
    {
     "ename": "SyntaxError",
     "evalue": "invalid syntax (1230786337.py, line 10)",
     "output_type": "error",
     "traceback": [
      "\u001b[1;36m  Cell \u001b[1;32mIn[6], line 10\u001b[1;36m\u001b[0m\n\u001b[1;33m    new_ordered_dict = insert_at_beginning(my_ordered_dict, 'x', 10)\u001b[0m\n\u001b[1;37m    ^\u001b[0m\n\u001b[1;31mSyntaxError\u001b[0m\u001b[1;31m:\u001b[0m invalid syntax\n"
     ]
    }
   ],
   "source": [
    "#Write a Python program to insertion at the beginning in OrderedDict?\n",
    "from collections import OrderedDict\n",
    "\n",
    "def insert_at_beginning(ordered_dict, key, value):\n",
    "    new_ordered_dict = OrderedDict([(key, value)] + list(ordered_dict.items()))\n",
    "    return new_ordered_dict\n",
    "\n",
    "\n",
    "my_ordered_dict = OrderedDict([('a', 1), ('b', 2), ('c', 3)]\n",
    "new_ordered_dict = insert_at_beginning(my_ordered_dict, 'x', 10)\n",
    "print(new_ordered_dict)\n"
   ]
  },
  {
   "cell_type": "code",
   "execution_count": 7,
   "id": "edb71759-f041-4d97-af0c-2957e93da14e",
   "metadata": {},
   "outputs": [
    {
     "name": "stdout",
     "output_type": "stream",
     "text": [
      "The characters in the input string do not follow the order in the pattern.\n"
     ]
    }
   ],
   "source": [
    "#Write a Python program to check order of character in string using OrderedDict()?\n",
    "from collections import OrderedDict\n",
    "\n",
    "def check_order_of_characters(input_string, pattern):\n",
    "    char_order = OrderedDict()\n",
    "\n",
    "    for char in input_string:       \n",
    "        if char in pattern:\n",
    "            char_order[char] = char_order.get(char, 0) + 1  \n",
    "    ordered_chars = ''.join(char_order.keys())  \n",
    "    return ordered_chars == pattern\n",
    "\n",
    "input_string = \"hello world\"\n",
    "pattern = \"hwo\"\n",
    "result = check_order_of_characters(input_string, pattern)\n",
    "\n",
    "if result:\n",
    "    print(\"The characters in the input string follow the order in the pattern.\")\n",
    "else:\n",
    "    print(\"The characters in the input string do not follow the order in the pattern.\")\n"
   ]
  },
  {
   "cell_type": "code",
   "execution_count": 8,
   "id": "10649355-c3f6-4557-9a55-9805e14ec40b",
   "metadata": {},
   "outputs": [
    {
     "name": "stdout",
     "output_type": "stream",
     "text": [
      "Dictionary sorted by key: {'a': 1, 'b': 3, 'c': 2, 'd': 4}\n",
      "Dictionary sorted by value: {'a': 1, 'c': 2, 'b': 3, 'd': 4}\n"
     ]
    }
   ],
   "source": [
    "#Write a Python program to sort Python Dictionaries by Key or Value?\n",
    "\n",
    "def sort_dict_by_key(input_dict):\n",
    "    return dict(sorted(input_dict.items()))\n",
    "\n",
    "def sort_dict_by_value(input_dict):\n",
    "    return dict(sorted(input_dict.items(), key=lambda item: item[1]))\n",
    "\n",
    "my_dict = {'b': 3, 'a': 1, 'd': 4, 'c': 2}\n",
    "\n",
    "sorted_by_key = sort_dict_by_key(my_dict)\n",
    "print(\"Dictionary sorted by key:\", sorted_by_key)\n",
    "\n",
    "sorted_by_value = sort_dict_by_value(my_dict)\n",
    "print(\"Dictionary sorted by value:\", sorted_by_value)\n"
   ]
  },
  {
   "cell_type": "code",
   "execution_count": null,
   "id": "00f8a141-8d1b-49b7-87b2-525b7844e13c",
   "metadata": {},
   "outputs": [],
   "source": []
  }
 ],
 "metadata": {
  "kernelspec": {
   "display_name": "Python 3 (ipykernel)",
   "language": "python",
   "name": "python3"
  },
  "language_info": {
   "codemirror_mode": {
    "name": "ipython",
    "version": 3
   },
   "file_extension": ".py",
   "mimetype": "text/x-python",
   "name": "python",
   "nbconvert_exporter": "python",
   "pygments_lexer": "ipython3",
   "version": "3.9.13"
  }
 },
 "nbformat": 4,
 "nbformat_minor": 5
}
