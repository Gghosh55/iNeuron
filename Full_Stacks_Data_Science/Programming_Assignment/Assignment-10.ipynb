{
 "cells": [
  {
   "cell_type": "code",
   "execution_count": 5,
   "id": "21974a44-86e9-4226-a429-a2ac52db507a",
   "metadata": {},
   "outputs": [
    {
     "name": "stdout",
     "output_type": "stream",
     "text": [
      "Sum of elements in the list: 15\n"
     ]
    }
   ],
   "source": [
    "#Write a Python program to find sum of elements in list\n",
    "def find_sum_using_loop(lst):\n",
    "    total = 0\n",
    "    for element in lst:\n",
    "        total += element\n",
    "    return total\n",
    "\n",
    "my_list = [1, 2, 3, 4, 5]\n",
    "result = find_sum_using_loop(my_list)\n",
    "print(\"Sum of elements in the list:\", result)\n"
   ]
  },
  {
   "cell_type": "code",
   "execution_count": 4,
   "id": "e0a01474-cadf-4a11-b269-77028e989572",
   "metadata": {},
   "outputs": [
    {
     "name": "stdout",
     "output_type": "stream",
     "text": [
      "Multiplication of elements in the list: 120\n"
     ]
    }
   ],
   "source": [
    "#Write a Python program to Multiply all numbers in the list\n",
    "def multiply_elements_using_loop(lst):\n",
    "    result = 1  # Initialize the result to 1\n",
    "    for element in lst:\n",
    "        result *= element\n",
    "    return result\n",
    "\n",
    "my_list = [1, 2, 3, 4, 5]\n",
    "result = multiply_elements_using_loop(my_list)\n",
    "print(\"Multiplication of elements in the list:\", result)\n"
   ]
  },
  {
   "cell_type": "code",
   "execution_count": 6,
   "id": "da9efe9a-d051-4b92-9ed0-14796c89546b",
   "metadata": {},
   "outputs": [
    {
     "name": "stdout",
     "output_type": "stream",
     "text": [
      "Smallest number in the list: 1\n"
     ]
    }
   ],
   "source": [
    "#Write a Python program to find smallest number in a list\n",
    "def find_smallest_using_min_function(lst):\n",
    "    if not lst:  \n",
    "        return None\n",
    "\n",
    "    smallest = min(lst)\n",
    "    return smallest\n",
    "\n",
    "my_list = [5, 2, 9, 1, 7]\n",
    "result = find_smallest_using_min_function(my_list)\n",
    "print(\"Smallest number in the list:\", result)\n"
   ]
  },
  {
   "cell_type": "code",
   "execution_count": 7,
   "id": "6768e910-9f9f-449e-9fec-a1c17962dacd",
   "metadata": {},
   "outputs": [
    {
     "name": "stdout",
     "output_type": "stream",
     "text": [
      "Largest number in the list: 9\n"
     ]
    }
   ],
   "source": [
    "#Write a Python program to find largest number in a list?\n",
    "def find_largest_using_max_function(lst):\n",
    "    if not lst:  \n",
    "        return None\n",
    "\n",
    "    largest = max(lst)\n",
    "    return largest\n",
    "\n",
    "my_list = [5, 2, 9, 1, 7]\n",
    "result = find_largest_using_max_function(my_list)\n",
    "print(\"Largest number in the list:\", result)\n"
   ]
  },
  {
   "cell_type": "code",
   "execution_count": 8,
   "id": "4d5a70d1-966f-4045-82ab-ef800b5e6a2b",
   "metadata": {},
   "outputs": [
    {
     "name": "stdout",
     "output_type": "stream",
     "text": [
      "Second largest number in the list: 8\n"
     ]
    }
   ],
   "source": [
    "#Write a Python program to find second largest number in a list?\n",
    "def find_second_largest(lst):\n",
    "    if len(lst) < 2:\n",
    "        return \"The list does not have a second largest element\"\n",
    "\n",
    "    largest = second_largest = float('-inf') \n",
    "    for element in lst:\n",
    "        if element > largest:\n",
    "            second_largest = largest\n",
    "            largest = element\n",
    "        elif element > second_largest and element != largest:\n",
    "            second_largest = element\n",
    "\n",
    "    if second_largest == float('-inf'):\n",
    "        return \"There is no second largest element\"\n",
    "    else:\n",
    "        return second_largest\n",
    "\n",
    "my_list = [5, 2, 9, 1, 7, 9, 8]\n",
    "result = find_second_largest(my_list)\n",
    "print(\"Second largest number in the list:\", result)\n"
   ]
  },
  {
   "cell_type": "code",
   "execution_count": 9,
   "id": "5dfc3450-b5dc-4387-93ed-3ddc524bec82",
   "metadata": {},
   "outputs": [
    {
     "name": "stdout",
     "output_type": "stream",
     "text": [
      "3 largest elements in the list: [10, 9, 8]\n"
     ]
    }
   ],
   "source": [
    "#Write a Python program to find N largest elements from a list?\n",
    "import heapq\n",
    "\n",
    "def find_n_largest_elements(lst, n):\n",
    "    if n <= 0 or n > len(lst):\n",
    "        return \"Invalid value of N\"\n",
    "\n",
    "    largest_elements = heapq.nlargest(n, lst)\n",
    "    return largest_elements\n",
    "\n",
    "my_list = [5, 2, 9, 1, 7, 4, 8, 10]\n",
    "n = 3  \n",
    "result = find_n_largest_elements(my_list, n)\n",
    "print(f\"{n} largest elements in the list:\", result)\n"
   ]
  },
  {
   "cell_type": "code",
   "execution_count": 10,
   "id": "791e8a18-e4ec-4148-9e6a-fa3d5ab90960",
   "metadata": {},
   "outputs": [
    {
     "name": "stdout",
     "output_type": "stream",
     "text": [
      "Even numbers in the list:\n",
      "2\n",
      "4\n",
      "6\n",
      "8\n",
      "10\n"
     ]
    }
   ],
   "source": [
    "#Write a Python program to print even numbers in a list?\n",
    "def print_even_numbers(lst):\n",
    "    for number in lst:\n",
    "        if number % 2 == 0:\n",
    "            print(number)\n",
    "\n",
    "my_list = [1, 2, 3, 4, 5, 6, 7, 8, 9, 10]\n",
    "print(\"Even numbers in the list:\")\n",
    "print_even_numbers(my_list)\n"
   ]
  },
  {
   "cell_type": "code",
   "execution_count": 11,
   "id": "c2eac0a7-4c76-4ea7-a063-720fa609afb8",
   "metadata": {},
   "outputs": [
    {
     "name": "stdout",
     "output_type": "stream",
     "text": [
      "Odd numbers in the list:\n",
      "1\n",
      "3\n",
      "5\n",
      "7\n",
      "9\n"
     ]
    }
   ],
   "source": [
    "#Write a Python program to print odd numbers in a List?\n",
    "def print_odd_numbers(lst):\n",
    "    for number in lst:\n",
    "        if number % 2 != 0:\n",
    "            print(number)\n",
    "\n",
    "my_list = [1, 2, 3, 4, 5, 6, 7, 8, 9, 10]\n",
    "print(\"Odd numbers in the list:\")\n",
    "print_odd_numbers(my_list)\n"
   ]
  },
  {
   "cell_type": "code",
   "execution_count": 12,
   "id": "6ad3a22d-4c70-4ead-910c-2a376c69b89f",
   "metadata": {},
   "outputs": [
    {
     "name": "stdout",
     "output_type": "stream",
     "text": [
      "List after removing empty lists: [1, [3, 4], [5, 6]]\n"
     ]
    }
   ],
   "source": [
    "#Write a Python program to Remove empty List from List?\n",
    "def remove_empty_lists(lst):\n",
    "    return [sublist for sublist in lst if sublist]\n",
    "\n",
    "my_list = [1, [], [3, 4], [], [5, 6], []]\n",
    "result = remove_empty_lists(my_list)\n",
    "print(\"List after removing empty lists:\", result)\n"
   ]
  },
  {
   "cell_type": "code",
   "execution_count": 13,
   "id": "d6d6772e-2243-47dc-86f6-43a8419a0208",
   "metadata": {},
   "outputs": [
    {
     "name": "stdout",
     "output_type": "stream",
     "text": [
      "Cloned list: [[1, 2], [3, 4], [5, 6]]\n"
     ]
    }
   ],
   "source": [
    "#Write a Python program to Cloning or Copying a list?\n",
    "import copy\n",
    "\n",
    "def clone_list(original_list):\n",
    "    return copy.copy(original_list)\n",
    "\n",
    "my_list = [[1, 2], [3, 4], [5, 6]]\n",
    "cloned_list = clone_list(my_list)\n",
    "print(\"Cloned list:\", cloned_list)\n"
   ]
  },
  {
   "cell_type": "code",
   "execution_count": 14,
   "id": "70c3ac3c-c9cc-4ec5-8fdc-961cdbfcfc41",
   "metadata": {},
   "outputs": [
    {
     "name": "stdout",
     "output_type": "stream",
     "text": [
      "The element 2 appears 4 times in the list.\n"
     ]
    }
   ],
   "source": [
    "#Write a Python program to Count occurrences of an element in a list?\n",
    "def count_occurrences(lst, element):\n",
    "    return lst.count(element)\n",
    "\n",
    "my_list = [1, 2, 2, 3, 4, 2, 5, 2]\n",
    "element_to_count = 2\n",
    "count = count_occurrences(my_list, element_to_count)\n",
    "print(f\"The element {element_to_count} appears {count} times in the list.\")\n"
   ]
  },
  {
   "cell_type": "code",
   "execution_count": null,
   "id": "7ec0822b-f79b-4954-9920-505e023e18d6",
   "metadata": {},
   "outputs": [],
   "source": []
  }
 ],
 "metadata": {
  "kernelspec": {
   "display_name": "Python 3 (ipykernel)",
   "language": "python",
   "name": "python3"
  },
  "language_info": {
   "codemirror_mode": {
    "name": "ipython",
    "version": 3
   },
   "file_extension": ".py",
   "mimetype": "text/x-python",
   "name": "python",
   "nbconvert_exporter": "python",
   "pygments_lexer": "ipython3",
   "version": "3.9.13"
  }
 },
 "nbformat": 4,
 "nbformat_minor": 5
}
