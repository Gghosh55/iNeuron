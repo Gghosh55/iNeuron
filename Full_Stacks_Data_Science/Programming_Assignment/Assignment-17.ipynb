{
 "cells": [
  {
   "cell_type": "code",
   "execution_count": 1,
   "id": "5571a2b0-abda-4b64-9807-3cdbe7e989b9",
   "metadata": {},
   "outputs": [
    {
     "name": "stdout",
     "output_type": "stream",
     "text": [
      "0\n",
      "30\n",
      "18\n"
     ]
    }
   ],
   "source": [
    "#Create a function that takes three arguments a, b, c and returns the sum of the numbers that are evenly divided by c from the range a, b inclusive.\n",
    "def evenly_divisible(a, b, c):\n",
    "    total = 0\n",
    "    for number in range(a, b + 1):\n",
    "        if number % c == 0:\n",
    "            total += number\n",
    "    return total\n",
    "\n",
    "\n",
    "print(evenly_divisible(1, 10, 20)) \n",
    "print(evenly_divisible(1, 10, 2))  \n",
    "print(evenly_divisible(1, 10, 3))  \n"
   ]
  },
  {
   "cell_type": "code",
   "execution_count": 2,
   "id": "7f72aefb-97cc-4c46-bebe-966a9f6d6de8",
   "metadata": {},
   "outputs": [
    {
     "name": "stdout",
     "output_type": "stream",
     "text": [
      "True\n",
      "False\n",
      "True\n"
     ]
    }
   ],
   "source": [
    "#Create a function that returns True if a given inequality expression is correct and False otherwise.\n",
    "def correct_signs(expression):\n",
    "    try:\n",
    "        return eval(expression)\n",
    "    except:\n",
    "        return False\n",
    "\n",
    "print(correct_signs(\"3 < 7 < 11\"))       \n",
    "print(correct_signs(\"13 > 44 > 33 > 1\"))  \n",
    "print(correct_signs(\"1 < 2 < 6 < 9 > 3\"))\n"
   ]
  },
  {
   "cell_type": "code",
   "execution_count": 3,
   "id": "4b17ad01-1d6c-4c81-a9ec-d8f74b4c9b37",
   "metadata": {},
   "outputs": [
    {
     "name": "stdout",
     "output_type": "stream",
     "text": [
      "th# ##rdv#rk\n",
      "m?nn?? m??s?\n",
      "sh*k*sp**r*\n"
     ]
    }
   ],
   "source": [
    "#Create a function that replaces all the vowels in a string with a specified character.\n",
    "def replace_vowels(text, char):\n",
    "    vowels = \"AEIOUaeiou\"\n",
    "    result = \"\"\n",
    "    for letter in text:\n",
    "        if letter in vowels:\n",
    "            result += char\n",
    "        else:\n",
    "            result += letter\n",
    "    return result\n",
    "\n",
    "print(replace_vowels(\"the aardvark\", \"#\")) \n",
    "print(replace_vowels(\"minnie mouse\", \"?\"))  \n",
    "print(replace_vowels(\"shakespeare\", \"*\"))   \n"
   ]
  },
  {
   "cell_type": "code",
   "execution_count": 4,
   "id": "96cf52b1-0e87-43c6-bae7-6d2c175e6812",
   "metadata": {},
   "outputs": [
    {
     "name": "stdout",
     "output_type": "stream",
     "text": [
      "120\n",
      "6\n",
      "1\n",
      "1\n"
     ]
    }
   ],
   "source": [
    "#Write a function that calculates the factorial of a number recursively.\n",
    "def factorial(n):\n",
    "    if n == 0:\n",
    "        return 1\n",
    "    else:\n",
    "        return n * factorial(n - 1)\n",
    "\n",
    "print(factorial(5))  \n",
    "print(factorial(3)) \n",
    "print(factorial(1))  \n",
    "print(factorial(0))  \n"
   ]
  },
  {
   "cell_type": "code",
   "execution_count": 5,
   "id": "dfa70141-9d33-413c-835b-af0aeb04f8f1",
   "metadata": {},
   "outputs": [
    {
     "name": "stdout",
     "output_type": "stream",
     "text": [
      "5\n",
      "0\n",
      "1\n"
     ]
    }
   ],
   "source": [
    "#Hamming distance is the number of characters that differ between two strings.\n",
    "def hamming_distance(str1, str2):\n",
    "    if len(str1) != len(str2):\n",
    "        return \"Strings must have the same length\"\n",
    "\n",
    "    distance = 0\n",
    "    for i in range(len(str1)):\n",
    "        if str1[i] != str2[i]:\n",
    "            distance += 1\n",
    "    return distance\n",
    "\n",
    "print(hamming_distance(\"abcde\", \"bcdef\")) \n",
    "print(hamming_distance(\"abcde\", \"abcde\"))  \n",
    "print(hamming_distance(\"strong\", \"strung\")) \n"
   ]
  },
  {
   "cell_type": "code",
   "execution_count": null,
   "id": "cff69e18-0dad-4e08-b818-0861b951d34d",
   "metadata": {},
   "outputs": [],
   "source": []
  }
 ],
 "metadata": {
  "kernelspec": {
   "display_name": "Python 3 (ipykernel)",
   "language": "python",
   "name": "python3"
  },
  "language_info": {
   "codemirror_mode": {
    "name": "ipython",
    "version": 3
   },
   "file_extension": ".py",
   "mimetype": "text/x-python",
   "name": "python",
   "nbconvert_exporter": "python",
   "pygments_lexer": "ipython3",
   "version": "3.9.13"
  }
 },
 "nbformat": 4,
 "nbformat_minor": 5
}
