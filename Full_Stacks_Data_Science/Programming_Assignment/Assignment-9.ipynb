{
 "cells": [
  {
   "cell_type": "code",
   "execution_count": 1,
   "id": "0c8523f6-80a5-40c3-953d-0d32a4c20914",
   "metadata": {},
   "outputs": [
    {
     "name": "stdin",
     "output_type": "stream",
     "text": [
      "Enter a number:  88\n"
     ]
    },
    {
     "name": "stdout",
     "output_type": "stream",
     "text": [
      "88 is not a Disarium number.\n"
     ]
    }
   ],
   "source": [
    "#Write a Python program to check if the given number is a Disarium Number\n",
    "def is_disarium(number):\n",
    "    # Convert the number to a string to access individual digits\n",
    "    num_str = str(number)\n",
    "    n = len(num_str)\n",
    "    total = 0\n",
    "\n",
    "    for i, digit in enumerate(num_str):\n",
    "        total += int(digit) ** (i + 1)\n",
    "\n",
    "    return total == number\n",
    "\n",
    "# Input a number to check if it's a Disarium number\n",
    "num = int(input(\"Enter a number: \"))\n",
    "\n",
    "if is_disarium(num):\n",
    "    print(f\"{num} is a Disarium number.\")\n",
    "else:\n",
    "    print(f\"{num} is not a Disarium number.\")\n"
   ]
  },
  {
   "cell_type": "code",
   "execution_count": 2,
   "id": "0ad29f39-3a17-4345-ab7f-5b25d1f528e7",
   "metadata": {},
   "outputs": [
    {
     "name": "stdout",
     "output_type": "stream",
     "text": [
      "Disarium numbers between 1 and 100:\n",
      "1\n",
      "2\n",
      "3\n",
      "4\n",
      "5\n",
      "6\n",
      "7\n",
      "8\n",
      "9\n",
      "89\n"
     ]
    }
   ],
   "source": [
    "#Write a Python program to print all disarium numbers between 1 to 100\n",
    "def is_disarium(number):\n",
    "    num_str = str(number)\n",
    "    n = len(num_str)\n",
    "    total = 0\n",
    "\n",
    "    for i, digit in enumerate(num_str):\n",
    "        total += int(digit) ** (i + 1)\n",
    "\n",
    "    return total == number\n",
    "\n",
    "print(\"Disarium numbers between 1 and 100:\")\n",
    "\n",
    "for num in range(1, 101):\n",
    "    if is_disarium(num):\n",
    "        print(num)\n"
   ]
  },
  {
   "cell_type": "code",
   "execution_count": 3,
   "id": "d61ff410-f628-40a8-b721-fa1b7346feb5",
   "metadata": {},
   "outputs": [
    {
     "name": "stdin",
     "output_type": "stream",
     "text": [
      "Enter a number:  12\n"
     ]
    },
    {
     "name": "stdout",
     "output_type": "stream",
     "text": [
      "12 is not a Happy Number.\n"
     ]
    }
   ],
   "source": [
    "#Write a Python program to check if the given number is Happy Number?\n",
    "def is_happy_number(number):\n",
    "    def get_next(num):\n",
    "        next_num = 0\n",
    "        while num > 0:\n",
    "            num, digit = divmod(num, 10)\n",
    "            next_num += digit ** 2\n",
    "        return next_num\n",
    "\n",
    "    seen = set()\n",
    "    while number != 1 and number not in seen:\n",
    "        seen.add(number)\n",
    "        number = get_next(number)\n",
    "\n",
    "    return number == 1\n",
    "\n",
    "# Input a number to check if it's a Happy Number\n",
    "num = int(input(\"Enter a number: \"))\n",
    "\n",
    "if is_happy_number(num):\n",
    "    print(f\"{num} is a Happy Number.\")\n",
    "else:\n",
    "    print(f\"{num} is not a Happy Number.\")\n"
   ]
  },
  {
   "cell_type": "code",
   "execution_count": 4,
   "id": "b34bbd5b-b385-4bf7-ad2d-bfac25159618",
   "metadata": {},
   "outputs": [
    {
     "name": "stdout",
     "output_type": "stream",
     "text": [
      "Happy numbers between 1 and 100:\n",
      "1\n",
      "7\n",
      "10\n",
      "13\n",
      "19\n",
      "23\n",
      "28\n",
      "31\n",
      "32\n",
      "44\n",
      "49\n",
      "68\n",
      "70\n",
      "79\n",
      "82\n",
      "86\n",
      "91\n",
      "94\n",
      "97\n",
      "100\n"
     ]
    }
   ],
   "source": [
    "#Write a Python program to print all happy numbers between 1 and 100\n",
    "def is_happy_number(number):\n",
    "    def get_next(num):\n",
    "        next_num = 0\n",
    "        while num > 0:\n",
    "            num, digit = divmod(num, 10)\n",
    "            next_num += digit ** 2\n",
    "        return next_num\n",
    "\n",
    "    seen = set()\n",
    "    while number != 1 and number not in seen:\n",
    "        seen.add(number)\n",
    "        number = get_next(number)\n",
    "\n",
    "    return number == 1\n",
    "\n",
    "print(\"Happy numbers between 1 and 100:\")\n",
    "\n",
    "for num in range(1, 101):\n",
    "    if is_happy_number(num):\n",
    "        print(num)\n"
   ]
  },
  {
   "cell_type": "code",
   "execution_count": 10,
   "id": "c616f05b-958b-4c2a-aa25-2b28410c1dd4",
   "metadata": {},
   "outputs": [
    {
     "name": "stdin",
     "output_type": "stream",
     "text": [
      "Enter a Number:  22\n"
     ]
    },
    {
     "name": "stdout",
     "output_type": "stream",
     "text": [
      "22 is a Not Harshad Number\n"
     ]
    }
   ],
   "source": [
    "#Write a Python program to determine whether the given number is a Harshad Number?\n",
    "def checkHarshadNumber():\n",
    "    in_num = input('Enter a Number: ')\n",
    "    sum = 0\n",
    "    for item in range(len(in_num)):\n",
    "        sum = sum + int(in_num[item])\n",
    "    if int(in_num)%sum == 0:\n",
    "        print(f'{in_num} is a Harshad Number')\n",
    "    else:\n",
    "        print(f'{in_num} is a Not Harshad Number')\n",
    "        \n",
    "checkHarshadNumber()\n"
   ]
  },
  {
   "cell_type": "code",
   "execution_count": 11,
   "id": "a9ab06b7-9253-47e1-b96f-90340baab96a",
   "metadata": {},
   "outputs": [
    {
     "name": "stdout",
     "output_type": "stream",
     "text": [
      "[0, 2, 6, 12, 20, 30, 42, 56, 72, 90, 110, 132, 156, 182, 210, 240, 272, 306, 342, 380, 420, 462, 506, 552, 600, 650, 702, 756, 812, 870, 930, 992, 1056, 1122, 1190, 1260, 1332, 1406, 1482, 1560, 1640, 1722, 1806, 1892, 1980, 2070, 2162, 2256, 2352, 2450, 2550, 2652, 2756, 2862, 2970, 3080, 3192, 3306, 3422, 3540, 3660, 3782, 3906, 4032, 4160, 4290, 4422, 4556, 4692, 4830, 4970, 5112, 5256, 5402, 5550, 5700, 5852, 6006, 6162, 6320, 6480, 6642, 6806, 6972, 7140, 7310, 7482, 7656, 7832, 8010, 8190, 8372, 8556, 8742, 8930, 9120, 9312, 9506, 9702, 9900, 10100]\n"
     ]
    }
   ],
   "source": [
    "#Write a Python program to print all pronic numbers between 1 and 100?\n",
    "def printPronicNumbers(start=0,end=100):\n",
    "    outputList = []\n",
    "    for ele in range(start,end+1):\n",
    "        outputList.append((ele)*(ele+1))\n",
    "    print(outputList)\n",
    "                   \n",
    "printPronicNumbers()\n"
   ]
  },
  {
   "cell_type": "code",
   "execution_count": null,
   "id": "0b76949a-b5da-40b8-91d5-77849b4c2bca",
   "metadata": {},
   "outputs": [],
   "source": []
  }
 ],
 "metadata": {
  "kernelspec": {
   "display_name": "Python 3 (ipykernel)",
   "language": "python",
   "name": "python3"
  },
  "language_info": {
   "codemirror_mode": {
    "name": "ipython",
    "version": 3
   },
   "file_extension": ".py",
   "mimetype": "text/x-python",
   "name": "python",
   "nbconvert_exporter": "python",
   "pygments_lexer": "ipython3",
   "version": "3.9.13"
  }
 },
 "nbformat": 4,
 "nbformat_minor": 5
}
