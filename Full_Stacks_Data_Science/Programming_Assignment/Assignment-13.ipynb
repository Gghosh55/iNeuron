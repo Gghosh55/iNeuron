{
 "cells": [
  {
   "cell_type": "code",
   "execution_count": 1,
   "id": "d34b693c-1ee1-4dcc-80fb-36b99881c1b8",
   "metadata": {},
   "outputs": [
    {
     "name": "stdout",
     "output_type": "stream",
     "text": [
      "The output of the program is: 18,22,24\n"
     ]
    }
   ],
   "source": [
    "#Write a program that calculates and prints the value according to the given formula: Q = Square root of [(2 * C * D)/H]\n",
    "import math\n",
    "C = 50\n",
    "H = 30\n",
    "\n",
    "def calculate_value(D):\n",
    "    return int(math.sqrt((2 * C * D) / H))\n",
    "\n",
    "input_sequence = \"100,150,180\"\n",
    "\n",
    "values = input_sequence.split(',')\n",
    "result = [calculate_value(int(D)) for D in values]\n",
    "\n",
    "output_sequence = ','.join(map(str, result))\n",
    "\n",
    "print(\"The output of the program is:\", output_sequence)\n",
    "\n"
   ]
  },
  {
   "cell_type": "code",
   "execution_count": 2,
   "id": "ffb38e60-f2d9-4f15-956b-6407b8ce7aa9",
   "metadata": {},
   "outputs": [
    {
     "name": "stdin",
     "output_type": "stream",
     "text": [
      "Enter two digits X and Y separated by a comma:  3,5\n"
     ]
    },
    {
     "name": "stdout",
     "output_type": "stream",
     "text": [
      "[0, 0, 0, 0, 0]\n",
      "[0, 1, 2, 3, 4]\n",
      "[0, 2, 4, 6, 8]\n"
     ]
    }
   ],
   "source": [
    "#Write a program which takes 2 digits, X,Y as input and generates a 2-dimensional array. The element value in the i-th row and j-th column of the array should be i*j.\n",
    "\n",
    "def generate_2D_array(X, Y):\n",
    "    result = []\n",
    "    for i in range(X):\n",
    "        row = []\n",
    "        for j in range(Y):\n",
    "            row.append(i * j)\n",
    "        result.append(row)\n",
    "    return result\n",
    "\n",
    "X, Y = map(int, input(\"Enter two digits X and Y separated by a comma: \").split(','))\n",
    "\n",
    "array_2D = generate_2D_array(X, Y)\n",
    "\n",
    "for row in array_2D:\n",
    "    print(row)\n"
   ]
  },
  {
   "cell_type": "code",
   "execution_count": 3,
   "id": "92f99b1b-cbef-4a58-b589-0b3398a7661a",
   "metadata": {},
   "outputs": [
    {
     "name": "stdin",
     "output_type": "stream",
     "text": [
      "Enter a comma-separated sequence of words:  without,hello,bag,world\n"
     ]
    },
    {
     "name": "stdout",
     "output_type": "stream",
     "text": [
      "Sorted words: bag,hello,without,world\n"
     ]
    }
   ],
   "source": [
    "#Write a program that accepts a comma separated sequence of words as input and prints the words in a comma-separated sequence after sorting them alphabetically.\n",
    "\n",
    "input_sequence = input(\"Enter a comma-separated sequence of words: \")\n",
    "words = input_sequence.split(',')\n",
    "sorted_words = sorted(words)\n",
    "output_sequence = ','.join(sorted_words)\n",
    "print(\"Sorted words:\", output_sequence)\n"
   ]
  },
  {
   "cell_type": "code",
   "execution_count": 4,
   "id": "cb6e4c28-1d53-4207-8996-507418bf776c",
   "metadata": {},
   "outputs": [
    {
     "name": "stdin",
     "output_type": "stream",
     "text": [
      "Enter a sequence of whitespace-separated words:  hello world and practice makes perfect and hello world again\n"
     ]
    },
    {
     "name": "stdout",
     "output_type": "stream",
     "text": [
      "Sorted and deduplicated words: again and hello makes perfect practice world\n"
     ]
    }
   ],
   "source": [
    "#Write a program that accepts a sequence of whitespace separated words as input and prints the words after removing all duplicate words and sorting them alphanumerically.\n",
    "\n",
    "input_sequence = input(\"Enter a sequence of whitespace-separated words: \")\n",
    "words = input_sequence.split()\n",
    "unique_words = set(words)\n",
    "\n",
    "sorted_unique_words = sorted(unique_words)\n",
    "\n",
    "output_sequence = ' '.join(sorted_unique_words)\n",
    "\n",
    "print(\"Sorted and deduplicated words:\", output_sequence)\n"
   ]
  },
  {
   "cell_type": "code",
   "execution_count": 5,
   "id": "037ba88e-e945-457e-9b8f-076c86cbf64d",
   "metadata": {},
   "outputs": [
    {
     "name": "stdin",
     "output_type": "stream",
     "text": [
      "Enter a sentence:  hello world! 123\n"
     ]
    },
    {
     "name": "stdout",
     "output_type": "stream",
     "text": [
      "LETTERS 10\n"
     ]
    }
   ],
   "source": [
    "#Write a program that accepts a sentence and calculate the number of letters and digits.\n",
    "\n",
    "input_sentence = input(\"Enter a sentence: \")\n",
    "\n",
    "letter_count = 0\n",
    "digit_count = 0\n",
    "\n",
    "for char in input_sentence:\n",
    "    if char.isalpha():\n",
    "        letter_count += 1\n",
    "    elif char.isdigit():\n",
    "        digit_count += 1\n",
    "\n",
    "print(f\"LETTERS {letter_count}\")\n"
   ]
  },
  {
   "cell_type": "code",
   "execution_count": 7,
   "id": "ace85db4-467c-4873-a3fe-c2ab38125b5e",
   "metadata": {},
   "outputs": [
    {
     "name": "stdin",
     "output_type": "stream",
     "text": [
      "Enter a password:  ABd1234@1,a F1#,2w3E*,2We3345\n"
     ]
    },
    {
     "name": "stdout",
     "output_type": "stream",
     "text": [
      "Password is valid.\n"
     ]
    }
   ],
   "source": [
    "#A website requires the users to input username and password to register. Write a program to check the validity of password input by users.\n",
    "import re\n",
    "\n",
    "def is_valid_password(password):\n",
    "    min_length = 8\n",
    "    has_lowercase = re.search(r'[a-z]', password)\n",
    "    has_uppercase = re.search(r'[A-Z]', password)\n",
    "    has_digit = re.search(r'\\d', password)\n",
    "    has_special_char = re.search(r'[!@#$%^&*()_+]', password)\n",
    "\n",
    "    if (len(password) >= min_length and has_lowercase and has_uppercase\n",
    "            and has_digit and has_special_char):\n",
    "        return True\n",
    "    else:\n",
    "        return False\n",
    "\n",
    "password = input(\"Enter a password: \")\n",
    "\n",
    "if is_valid_password(password):\n",
    "    print(\"Password is valid.\")\n",
    "else:\n",
    "    print(\"Password is not valid.\")\n"
   ]
  },
  {
   "cell_type": "code",
   "execution_count": null,
   "id": "7bc150fb-13e6-4df9-b4f2-fc24e7435c5b",
   "metadata": {},
   "outputs": [],
   "source": []
  }
 ],
 "metadata": {
  "kernelspec": {
   "display_name": "Python 3 (ipykernel)",
   "language": "python",
   "name": "python3"
  },
  "language_info": {
   "codemirror_mode": {
    "name": "ipython",
    "version": 3
   },
   "file_extension": ".py",
   "mimetype": "text/x-python",
   "name": "python",
   "nbconvert_exporter": "python",
   "pygments_lexer": "ipython3",
   "version": "3.9.13"
  }
 },
 "nbformat": 4,
 "nbformat_minor": 5
}
