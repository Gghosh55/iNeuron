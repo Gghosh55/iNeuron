{
 "cells": [
  {
   "cell_type": "code",
   "execution_count": 1,
   "id": "245b23b7-8312-41a4-93f8-ffc011908a3f",
   "metadata": {},
   "outputs": [
    {
     "name": "stdout",
     "output_type": "stream",
     "text": [
      "2\n",
      "3\n",
      "0\n"
     ]
    }
   ],
   "source": [
    "#Create a function that takes three integer arguments (a, b, c) and returns the amount of integers which are of equal value.\n",
    "def equal(a, b, c):\n",
    "    if a == b == c:\n",
    "        return 3\n",
    "    elif a == b or b == c or a == c:\n",
    "        return 2\n",
    "    else:\n",
    "        return 0\n",
    "print(equal(3, 4, 3))  # Output: 2\n",
    "print(equal(1, 1, 1))  # Output: 3\n",
    "print(equal(3, 4, 1))  # Output: 0\n"
   ]
  },
  {
   "cell_type": "code",
   "execution_count": 2,
   "id": "043c1a2f-2198-410b-83b0-553efacbb96d",
   "metadata": {},
   "outputs": [
    {
     "name": "stdout",
     "output_type": "stream",
     "text": [
      "[('B', 2), ('C', 3), ('D', 1)]\n",
      "[('dislikes', 3), ('followers', 10), ('likes', 2)]\n"
     ]
    }
   ],
   "source": [
    "#Write a function that converts a dictionary into a list of keys-values tuples.\n",
    "def dict_to_list(dictionary):\n",
    "    return sorted(dictionary.items())\n",
    "print(dict_to_list({\n",
    "    \"D\": 1,\n",
    "    \"B\": 2,\n",
    "    \"C\": 3\n",
    "}))\n",
    "# Output: [(\"B\", 2), (\"C\", 3), (\"D\", 1)]\n",
    "\n",
    "print(dict_to_list({\n",
    "    \"likes\": 2,\n",
    "    \"dislikes\": 3,\n",
    "    \"followers\": 10\n",
    "}))\n",
    "# Output: [(\"dislikes\", 3), (\"followers\", 10), (\"likes\", 2)]\n"
   ]
  },
  {
   "cell_type": "code",
   "execution_count": 3,
   "id": "6454b864-14ed-457f-83c8-6f2abb3ec6bf",
   "metadata": {},
   "outputs": [
    {
     "name": "stdout",
     "output_type": "stream",
     "text": [
      "{'p': 'P', 's': 'S'}\n",
      "{'a': 'A', 'b': 'B', 'c': 'C'}\n",
      "{'a': 'A', 'v': 'V', 'y': 'Y', 'z': 'Z'}\n"
     ]
    }
   ],
   "source": [
    "#Write a function that creates a dictionary with each (key, value) pair being the (lower case, upper case) versions of a letter, respectively.\n",
    "def mapping(lst):\n",
    "    return {char: char.upper() for char in lst}\n",
    "print(mapping([\"p\", \"s\"]))\n",
    "# Output: {\"p\": \"P\", \"s\": \"S\"}\n",
    "\n",
    "print(mapping([\"a\", \"b\", \"c\"]))\n",
    "# Output: {\"a\": \"A\", \"b\": \"B\", \"c\": \"C\"}\n",
    "\n",
    "print(mapping([\"a\", \"v\", \"y\", \"z\"]))\n",
    "# Output: {\"a\": \"A\", \"v\": \"V\", \"y\": \"Y\", \"z\": \"Z\"}\n"
   ]
  },
  {
   "cell_type": "code",
   "execution_count": 4,
   "id": "0e04eced-9f03-4ed9-b4c3-a55c2d632958",
   "metadata": {},
   "outputs": [
    {
     "name": "stdout",
     "output_type": "stream",
     "text": [
      "upplus und bununus\n",
      "chooso cossorolo\n",
      "steffed jelepene peppers\n"
     ]
    }
   ],
   "source": [
    "#Write a function, that replaces all vowels in a string with a specified vowel.\n",
    "def vow_replace(string, new_vowel):\n",
    "    vowels = \"aeiou\"\n",
    "    result = ''.join(new_vowel if char in vowels else char for char in string)\n",
    "    return result\n",
    "print(vow_replace(\"apples and bananas\", \"u\"))\n",
    "# Output: \"upplus und bununus\"\n",
    "\n",
    "print(vow_replace(\"cheese casserole\", \"o\"))\n",
    "# Output: \"chooso cossorolo\"\n",
    "\n",
    "print(vow_replace(\"stuffed jalapeno poppers\", \"e\"))\n",
    "# Output: \"steffed jelepene peppers\"\n"
   ]
  },
  {
   "cell_type": "code",
   "execution_count": 5,
   "id": "d26bfa20-6edb-4024-92ee-ad7fabc0e370",
   "metadata": {},
   "outputs": [
    {
     "name": "stdout",
     "output_type": "stream",
     "text": [
      "To Be oR NoT To Be!\n",
      "THe LiTTLe meRmaiD\n",
      "oH wHaT a BeauTiFuL moRNiNg.\n"
     ]
    }
   ],
   "source": [
    "#Create a function that takes a string as input and capitalizes a letter if its ASCII code is even and returns its lower case version if its ASCII code is odd.\n",
    "def ascii_capitalize(string):\n",
    "    result = ''.join(char.upper() if ord(char) % 2 == 0 else char.lower() for char in string)\n",
    "    return result\n",
    "print(ascii_capitalize(\"to be or not to be!\"))\n",
    "# Output: \"To Be oR NoT To Be!\"\n",
    "\n",
    "print(ascii_capitalize(\"THE LITTLE MERMAID\"))\n",
    "# Output: \"THe LiTTLe meRmaiD\"\n",
    "\n",
    "print(ascii_capitalize(\"Oh what a beautiful morning.\"))\n",
    "# Output: \"oH wHaT a BeauTiFuL moRNiNg.\"\n"
   ]
  },
  {
   "cell_type": "code",
   "execution_count": null,
   "id": "6ae079aa-b0d2-4aaf-9d8e-b2455f86dc6a",
   "metadata": {},
   "outputs": [],
   "source": []
  }
 ],
 "metadata": {
  "kernelspec": {
   "display_name": "Python 3 (ipykernel)",
   "language": "python",
   "name": "python3"
  },
  "language_info": {
   "codemirror_mode": {
    "name": "ipython",
    "version": 3
   },
   "file_extension": ".py",
   "mimetype": "text/x-python",
   "name": "python",
   "nbconvert_exporter": "python",
   "pygments_lexer": "ipython3",
   "version": "3.9.13"
  }
 },
 "nbformat": 4,
 "nbformat_minor": 5
}
